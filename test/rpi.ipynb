{
 "cells": [
  {
   "cell_type": "code",
   "execution_count": null,
   "metadata": {},
   "outputs": [],
   "source": [
    "from RPLCD.i2c import CharLCD\n",
    "lcd = CharLCD('PCF8574', 0x27)\n",
    "lcd.write_string('Hello world')\n",
    "lcd.backlight_enabled=False"
   ]
  },
  {
   "cell_type": "code",
   "execution_count": null,
   "metadata": {},
   "outputs": [],
   "source": [
    "import RPi.GPIO as GPIO\n",
    "import dht11\n",
    "import time\n",
    "\n",
    "GPIO.setwarnings(False)\n",
    "GPIO.setmode(GPIO.BCM)\n",
    "\n",
    "instance = dht11.DHT11(pin=24)\n",
    "\n",
    "try:\n",
    "    while True:\n",
    "        result = instance.read()\n",
    "        if result.is_valid():\n",
    "            print(f\"Temperature: {result.temperature}C\")\n",
    "            print(f\"Humidity: {result.humidity}%\\n\")\n",
    "        time.sleep(2)\n",
    "except KeyboardInterrupt:\n",
    "    print(\"Cleanup\")\n",
    "    GPIO.cleanup()\n"
   ]
  },
  {
   "cell_type": "code",
   "execution_count": null,
   "metadata": {},
   "outputs": [],
   "source": [
    "import time\n",
    "import RPi.GPIO as GPIO\n",
    "GPIO.setwarnings(False)\n",
    "GPIO.setmode(GPIO.BCM)\n",
    "\n",
    "relay_ch = 23\n",
    "\n",
    "GPIO.setup(relay_ch, GPIO.OUT)\n",
    "GPIO.output(relay_ch, GPIO.HIGH)\n",
    "time.sleep(1)\n",
    "GPIO.output(relay_ch, GPIO.LOW)\n",
    "time.sleep(1)\n",
    "GPIO.cleanup()\n"
   ]
  },
  {
   "cell_type": "code",
   "execution_count": null,
   "metadata": {},
   "outputs": [],
   "source": [
    "import RPi.GPIO as GPIO\n",
    "\n",
    "GPIO.setwarnings(False)\n",
    "\n",
    "# RPi pin mode = BCM\n",
    "\n",
    "GPIO.setmode(GPIO.BCM)\n",
    "\n",
    "GPIO.setup(13, GPIO.OUT)\n",
    "\n",
    "GPIO.setup(19, GPIO.OUT)\n",
    "\n",
    "GPIO.setup(26, GPIO.OUT)\n",
    "\n",
    "\n",
    "try:\n",
    "    GPIO.output(13, GPIO.HIGH)\n",
    "    GPIO.output(19, GPIO.HIGH)\n",
    "    GPIO.output(26, GPIO.HIGH)\n",
    "except Exception as e:\n",
    "    print(e)\n",
    "GPIO.cleanup()"
   ]
  },
  {
   "cell_type": "code",
   "execution_count": null,
   "metadata": {},
   "outputs": [],
   "source": [
    "import requests\n",
    "BASE_URL = 'http://localhost:5055/webhook/'"
   ]
  },
  {
   "cell_type": "code",
   "execution_count": null,
   "metadata": {},
   "outputs": [],
   "source": [
    "j = {\n",
    "    \"next_action\": \"action_hello_world\",\n",
    "    \"tracker\": {\n",
    "        \"sender_id\": \"1\",\n",
    "        \"conversation_id\": \"default\"\n",
    "    }\n",
    "}\n",
    "r_post = requests.post(url=BASE_URL,\n",
    "                       json=j)\n",
    "print(r_post.json())\n"
   ]
  }
 ],
 "metadata": {
  "kernelspec": {
   "display_name": "Python 3.10.7 64-bit ('test')",
   "language": "python",
   "name": "python3"
  },
  "language_info": {
   "codemirror_mode": {
    "name": "ipython",
    "version": 3
   },
   "file_extension": ".py",
   "mimetype": "text/x-python",
   "name": "python",
   "nbconvert_exporter": "python",
   "pygments_lexer": "ipython3",
   "version": "3.10.7"
  },
  "orig_nbformat": 4,
  "vscode": {
   "interpreter": {
    "hash": "62c580e990a90871f330048dfcf5bd9142854bcc99e55c733aa78f77303bca76"
   }
  }
 },
 "nbformat": 4,
 "nbformat_minor": 2
}
