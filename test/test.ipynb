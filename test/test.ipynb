{
 "cells": [
  {
   "cell_type": "code",
   "execution_count": 7,
   "metadata": {},
   "outputs": [],
   "source": [
    "import requests\n",
    "BASE_URL = 'http://127.0.0.1:5000'"
   ]
  },
  {
   "cell_type": "markdown",
   "metadata": {},
   "source": [
    "# Test Page"
   ]
  },
  {
   "cell_type": "code",
   "execution_count": 10,
   "metadata": {},
   "outputs": [
    {
     "data": {
      "text/plain": [
       "b'{\\n  \"msg\": \"404 Not Found: The requested URL was not found on the server. If you entered the URL manually please check your spelling and try again.\"\\n}\\n'"
      ]
     },
     "execution_count": 10,
     "metadata": {},
     "output_type": "execute_result"
    }
   ],
   "source": [
    "\"\"\"get test\"\"\"\n",
    "\n",
    "r_get = requests.get(f'{BASE_URL}')\n",
    "r_get.content"
   ]
  },
  {
   "cell_type": "markdown",
   "metadata": {},
   "source": [
    "# AUTH API"
   ]
  },
  {
   "cell_type": "code",
   "execution_count": 9,
   "metadata": {},
   "outputs": [
    {
     "ename": "KeyError",
     "evalue": "'access_token'",
     "output_type": "error",
     "traceback": [
      "\u001b[1;31m---------------------------------------------------------------------------\u001b[0m",
      "\u001b[1;31mKeyError\u001b[0m                                  Traceback (most recent call last)",
      "\u001b[1;32mc:\\Users\\DevilHYT\\Desktop\\github\\wingman-api\\test\\test.ipynb Cell 5\u001b[0m in \u001b[0;36m<cell line: 4>\u001b[1;34m()\u001b[0m\n\u001b[0;32m      <a href='vscode-notebook-cell:/c%3A/Users/DevilHYT/Desktop/github/wingman-api/test/test.ipynb#ch0000004?line=0'>1</a>\u001b[0m \u001b[39m\"\"\"Login\"\"\"\u001b[39;00m\n\u001b[0;32m      <a href='vscode-notebook-cell:/c%3A/Users/DevilHYT/Desktop/github/wingman-api/test/test.ipynb#ch0000004?line=2'>3</a>\u001b[0m r_post \u001b[39m=\u001b[39m requests\u001b[39m.\u001b[39mpost(\u001b[39mf\u001b[39m\u001b[39m'\u001b[39m\u001b[39m{\u001b[39;00mBASE_URL\u001b[39m}\u001b[39;00m\u001b[39m/auth\u001b[39m\u001b[39m'\u001b[39m, json\u001b[39m=\u001b[39m{\u001b[39m'\u001b[39m\u001b[39musername\u001b[39m\u001b[39m'\u001b[39m: \u001b[39m'\u001b[39m\u001b[39madmin\u001b[39m\u001b[39m'\u001b[39m, \u001b[39m'\u001b[39m\u001b[39mpassword\u001b[39m\u001b[39m'\u001b[39m: \u001b[39m'\u001b[39m\u001b[39madmin\u001b[39m\u001b[39m'\u001b[39m})\n\u001b[1;32m----> <a href='vscode-notebook-cell:/c%3A/Users/DevilHYT/Desktop/github/wingman-api/test/test.ipynb#ch0000004?line=3'>4</a>\u001b[0m token \u001b[39m=\u001b[39m r_post\u001b[39m.\u001b[39;49mjson()[\u001b[39m'\u001b[39;49m\u001b[39maccess_token\u001b[39;49m\u001b[39m'\u001b[39;49m]\n\u001b[0;32m      <a href='vscode-notebook-cell:/c%3A/Users/DevilHYT/Desktop/github/wingman-api/test/test.ipynb#ch0000004?line=4'>5</a>\u001b[0m cookies \u001b[39m=\u001b[39m r_post\u001b[39m.\u001b[39mcookies\u001b[39m.\u001b[39mget_dict()\n\u001b[0;32m      <a href='vscode-notebook-cell:/c%3A/Users/DevilHYT/Desktop/github/wingman-api/test/test.ipynb#ch0000004?line=5'>6</a>\u001b[0m \u001b[39mprint\u001b[39m(token)\n",
      "\u001b[1;31mKeyError\u001b[0m: 'access_token'"
     ]
    }
   ],
   "source": [
    "\"\"\"Login\"\"\"\n",
    "\n",
    "r_post = requests.post(f'{BASE_URL}/auth', json={'username': 'admin', 'password': 'admin'})\n",
    "token = r_post.json()['access_token']\n",
    "cookies = r_post.cookies.get_dict()\n",
    "print(token)\n",
    "print(cookies)"
   ]
  },
  {
   "cell_type": "code",
   "execution_count": 143,
   "metadata": {},
   "outputs": [
    {
     "name": "stdout",
     "output_type": "stream",
     "text": [
      "via header: {'id': 1, 'username': 'admin'}\n",
      "via cookie: {'id': 1, 'username': 'admin'}\n"
     ]
    }
   ],
   "source": [
    "\"\"\"Check Login status via header\"\"\"\n",
    "\n",
    "r_get = requests.get(f'{BASE_URL}/auth', headers={'Authorization' : f\"Bearer {token}\"})\n",
    "print(f'via header: {r_get.json()}')\n",
    "\n",
    "\"\"\"Check Login status via cookie\"\"\"\n",
    "\n",
    "r_get = requests.get(f'{BASE_URL}/auth', cookies=cookies)\n",
    "print(f'via cookie: {r_get.json()}')"
   ]
  },
  {
   "cell_type": "code",
   "execution_count": 144,
   "metadata": {},
   "outputs": [
    {
     "name": "stdout",
     "output_type": "stream",
     "text": [
      "{'msg': 'logout successful'}\n"
     ]
    }
   ],
   "source": [
    "\"\"\"Logout\"\"\"\n",
    "r_del = requests.delete(f'{BASE_URL}/auth', cookies=cookies)\n",
    "print(r_del.json())"
   ]
  },
  {
   "cell_type": "markdown",
   "metadata": {},
   "source": [
    "# Project API"
   ]
  },
  {
   "cell_type": "code",
   "execution_count": 145,
   "metadata": {},
   "outputs": [
    {
     "name": "stdout",
     "output_type": "stream",
     "text": [
      "{'project_names': []}\n"
     ]
    }
   ],
   "source": [
    "\"\"\"get project names\"\"\"\n",
    "r_get = requests.get(f'{BASE_URL}/projects', cookies=cookies)\n",
    "print(r_get.json())\n"
   ]
  },
  {
   "cell_type": "code",
   "execution_count": 14,
   "metadata": {},
   "outputs": [
    {
     "name": "stdout",
     "output_type": "stream",
     "text": [
      "{'msg': \"[WinError 183] 當檔案已存在時，無法建立該檔案。: 'C:\\\\\\\\Users\\\\\\\\DevilHYT\\\\\\\\Desktop\\\\\\\\github\\\\\\\\wingman-api\\\\\\\\wingman-data\\\\\\\\wingman-projects\\\\\\\\project_1'\"}\n"
     ]
    }
   ],
   "source": [
    "\"\"\"create project\"\"\"\n",
    "r_post = requests.post(f'{BASE_URL}/projects', cookies=cookies, json={'project_name': 'project_1'})\n",
    "print(r_post.json())"
   ]
  },
  {
   "cell_type": "code",
   "execution_count": 147,
   "metadata": {},
   "outputs": [
    {
     "name": "stdout",
     "output_type": "stream",
     "text": [
      "{'msg': 'OK'}\n"
     ]
    }
   ],
   "source": [
    "\"\"\"update project\"\"\"\n",
    "r_put = requests.put(f'{BASE_URL}/projects/project_1', cookies=cookies, json={'new_project_name': 'project_2'})\n",
    "print(r_put.json())"
   ]
  },
  {
   "cell_type": "code",
   "execution_count": 148,
   "metadata": {},
   "outputs": [
    {
     "name": "stdout",
     "output_type": "stream",
     "text": [
      "{'msg': 'OK'}\n"
     ]
    }
   ],
   "source": [
    "\"\"\"delete project\"\"\"\n",
    "r_delete = requests.delete(f'{BASE_URL}/projects/project_2', cookies=cookies)\n",
    "print(r_delete.json())"
   ]
  },
  {
   "cell_type": "markdown",
   "metadata": {},
   "source": [
    "### Create a project for test below"
   ]
  },
  {
   "cell_type": "code",
   "execution_count": 149,
   "metadata": {},
   "outputs": [
    {
     "name": "stdout",
     "output_type": "stream",
     "text": [
      "{'msg': 'OK'}\n"
     ]
    }
   ],
   "source": [
    "r_post = requests.post(f'{BASE_URL}/projects', cookies=cookies, json={'project_name': 'project_1'})\n",
    "print(r_post.json())"
   ]
  },
  {
   "cell_type": "markdown",
   "metadata": {},
   "source": [
    "# Intent API"
   ]
  },
  {
   "cell_type": "code",
   "execution_count": 150,
   "metadata": {},
   "outputs": [
    {
     "name": "stdout",
     "output_type": "stream",
     "text": [
      "{'intent_names': []}\n"
     ]
    }
   ],
   "source": [
    "\"\"\"get intent names\"\"\"\n",
    "r_get = requests.get(f'{BASE_URL}/projects/project_1/intents', cookies=cookies)\n",
    "print(r_get.json())"
   ]
  },
  {
   "cell_type": "code",
   "execution_count": 151,
   "metadata": {},
   "outputs": [
    {
     "name": "stdout",
     "output_type": "stream",
     "text": [
      "{'msg': 'OK'}\n"
     ]
    }
   ],
   "source": [
    "\"\"\"create an intent\"\"\"\n",
    "r_post = requests.post(f'{BASE_URL}/projects/project_1/intents', cookies=cookies, json={'intent_name': 'intent_1'})\n",
    "print(r_post.json())"
   ]
  },
  {
   "cell_type": "code",
   "execution_count": 152,
   "metadata": {},
   "outputs": [
    {
     "name": "stdout",
     "output_type": "stream",
     "text": [
      "{}\n"
     ]
    }
   ],
   "source": [
    "\"\"\"get an intent\"\"\"\n",
    "r_get = requests.get(f'{BASE_URL}/projects/project_1/intents/intent_1', cookies=cookies)\n",
    "print(r_get.json())"
   ]
  },
  {
   "cell_type": "code",
   "execution_count": 153,
   "metadata": {},
   "outputs": [
    {
     "name": "stdout",
     "output_type": "stream",
     "text": [
      "{'msg': 'OK'}\n"
     ]
    }
   ],
   "source": [
    "\"\"\"update intent\"\"\"\n",
    "r_put = requests.put(f'{BASE_URL}/projects/project_1/intents/intent_1', cookies=cookies, json={'examples': ['string_1']})\n",
    "print(r_put.json())"
   ]
  },
  {
   "cell_type": "code",
   "execution_count": 154,
   "metadata": {},
   "outputs": [
    {
     "name": "stdout",
     "output_type": "stream",
     "text": [
      "{'msg': 'OK'}\n"
     ]
    }
   ],
   "source": [
    "\"\"\"update & rename an intent\"\"\"\n",
    "r_put = requests.put(f'{BASE_URL}/projects/project_1/intents/intent_1', cookies=cookies, json={'new_intent_name': 'intent_2', 'examples': ['string_1', 'string_2']})\n",
    "print(r_put.json())"
   ]
  },
  {
   "cell_type": "code",
   "execution_count": 155,
   "metadata": {},
   "outputs": [
    {
     "name": "stdout",
     "output_type": "stream",
     "text": [
      "{'msg': 'OK'}\n"
     ]
    }
   ],
   "source": [
    "\"\"\"rename an intent\"\"\"\n",
    "r_put = requests.put(f'{BASE_URL}/projects/project_1/intents/intent_2', cookies=cookies, json={'new_intent_name': 'intent_1'})\n",
    "print(r_put.json())"
   ]
  },
  {
   "cell_type": "code",
   "execution_count": 156,
   "metadata": {},
   "outputs": [
    {
     "name": "stdout",
     "output_type": "stream",
     "text": [
      "{'msg': 'OK'}\n"
     ]
    }
   ],
   "source": [
    "\"\"\"delete an intent\"\"\"\n",
    "r_delete = requests.delete(f'{BASE_URL}/projects/project_1/intents/intent_1', cookies=cookies)\n",
    "print(r_delete.json())"
   ]
  },
  {
   "cell_type": "markdown",
   "metadata": {},
   "source": [
    "# Action API"
   ]
  },
  {
   "cell_type": "code",
   "execution_count": 157,
   "metadata": {},
   "outputs": [
    {
     "name": "stdout",
     "output_type": "stream",
     "text": [
      "{'action_name': []}\n"
     ]
    }
   ],
   "source": [
    "\"\"\"get action names\"\"\"\n",
    "r_get = requests.get(f'{BASE_URL}/projects/project_1/actions', cookies=cookies)\n",
    "print(r_get.json())"
   ]
  },
  {
   "cell_type": "code",
   "execution_count": 158,
   "metadata": {},
   "outputs": [
    {
     "name": "stdout",
     "output_type": "stream",
     "text": [
      "{'msg': 'OK'}\n"
     ]
    }
   ],
   "source": [
    "\"\"\"create an action\"\"\"\n",
    "r_post = requests.post(f'{BASE_URL}/projects/project_1/actions', cookies=cookies, json={'action_name': 'action_1', 'action_type':'response'})\n",
    "print(r_post.json())"
   ]
  },
  {
   "cell_type": "code",
   "execution_count": 159,
   "metadata": {},
   "outputs": [
    {
     "name": "stdout",
     "output_type": "stream",
     "text": [
      "{'action_type': 'response'}\n"
     ]
    }
   ],
   "source": [
    "\"\"\"get an action\"\"\"\n",
    "r_get = requests.get(f'{BASE_URL}/projects/project_1/actions/action_1', cookies=cookies)\n",
    "print(r_get.json())"
   ]
  },
  {
   "cell_type": "code",
   "execution_count": 160,
   "metadata": {},
   "outputs": [
    {
     "name": "stdout",
     "output_type": "stream",
     "text": [
      "{'msg': 'OK'}\n"
     ]
    }
   ],
   "source": [
    "\"\"\"update an action\"\"\"\n",
    "content = {\n",
    "    \"action_type\": \"response\",\n",
    "    \"data\": [\n",
    "        {\n",
    "            \"text\": \"text_1\"\n",
    "        },\n",
    "        {\n",
    "            \"text\": \"text_2\"\n",
    "        }\n",
    "    ]\n",
    "}\n",
    "\n",
    "r_put = requests.put(f'{BASE_URL}/projects/project_1/actions/action_1',\n",
    "                            cookies=cookies, json=content)\n",
    "print(r_put.json())\n"
   ]
  },
  {
   "cell_type": "code",
   "execution_count": 161,
   "metadata": {},
   "outputs": [
    {
     "name": "stdout",
     "output_type": "stream",
     "text": [
      "{'msg': 'OK'}\n"
     ]
    }
   ],
   "source": [
    "\"\"\"update & rename an action\"\"\"\n",
    "content = {\n",
    "    'new_action_name': 'action_2',\n",
    "    \"action_type\": \"response\",\n",
    "    \"data\": [\n",
    "        {\n",
    "            \"text\": \"text_1\"\n",
    "        },\n",
    "        {\n",
    "            \"text\": \"text_2\"\n",
    "        },\n",
    "        {\n",
    "            \"text\": \"text_3\"\n",
    "        }\n",
    "    ]\n",
    "}\n",
    "r_put = requests.put(\n",
    "    f'{BASE_URL}/projects/project_1/actions/action_1', cookies=cookies, json=content)\n",
    "print(r_put.json())\n"
   ]
  },
  {
   "cell_type": "code",
   "execution_count": 162,
   "metadata": {},
   "outputs": [
    {
     "name": "stdout",
     "output_type": "stream",
     "text": [
      "{'msg': 'OK'}\n"
     ]
    }
   ],
   "source": [
    "\"\"\"rename an action\"\"\"\n",
    "r_put = requests.put(\n",
    "    f'{BASE_URL}/projects/project_1/actions/action_2', cookies=cookies, json={'new_action_name': 'action_1'})\n",
    "print(r_put.json())"
   ]
  },
  {
   "cell_type": "code",
   "execution_count": 163,
   "metadata": {},
   "outputs": [
    {
     "name": "stdout",
     "output_type": "stream",
     "text": [
      "{'msg': 'OK'}\n"
     ]
    }
   ],
   "source": [
    "\"\"\"delete an action\"\"\"\n",
    "r_delete = requests.delete(f'{BASE_URL}/projects/project_1/actions/action_1', cookies=cookies)\n",
    "print(r_delete.json())"
   ]
  },
  {
   "cell_type": "markdown",
   "metadata": {},
   "source": [
    "# Action Type API"
   ]
  },
  {
   "cell_type": "code",
   "execution_count": 164,
   "metadata": {},
   "outputs": [
    {
     "name": "stdout",
     "output_type": "stream",
     "text": [
      "{'type_names': ['response', 'webapi']}\n"
     ]
    }
   ],
   "source": [
    "\"\"\"get the names of all action types\"\"\"\n",
    "r_get = requests.get(f'{BASE_URL}/actions/types', cookies=cookies)\n",
    "print(r_get.json())"
   ]
  },
  {
   "cell_type": "code",
   "execution_count": 165,
   "metadata": {},
   "outputs": [
    {
     "name": "stdout",
     "output_type": "stream",
     "text": [
      "{\n",
      "    \"items\": {\n",
      "        \"properties\": {\n",
      "            \"button\": {\n",
      "                \"items\": {\n",
      "                    \"properties\": {\n",
      "                        \"payload\": {\n",
      "                            \"type\": \"string\"\n",
      "                        },\n",
      "                        \"title\": {\n",
      "                            \"type\": \"string\"\n",
      "                        }\n",
      "                    },\n",
      "                    \"type\": \"object\"\n",
      "                },\n",
      "                \"type\": \"array\"\n",
      "            },\n",
      "            \"condition\": {\n",
      "                \"properties\": {\n",
      "                    \"name\": {\n",
      "                        \"type\": \"string\"\n",
      "                    },\n",
      "                    \"type\": {\n",
      "                        \"type\": \"string\"\n",
      "                    },\n",
      "                    \"value\": {}\n",
      "                },\n",
      "                \"type\": \"object\"\n",
      "            },\n",
      "            \"image\": {\n",
      "                \"type\": \"string\"\n",
      "            },\n",
      "            \"text\": {\n",
      "                \"type\": \"string\"\n",
      "            }\n",
      "        },\n",
      "        \"type\": \"object\"\n",
      "    },\n",
      "    \"title\": \"response\",\n",
      "    \"type\": \"array\"\n",
      "}\n"
     ]
    }
   ],
   "source": [
    "\"\"\"get the schema of an action type\"\"\"\n",
    "import json\n",
    "r_get = requests.get(f'{BASE_URL}/actions/schema/response', cookies=cookies)\n",
    "schema = r_get.json()\n",
    "print(json.dumps(schema, indent=4))"
   ]
  },
  {
   "cell_type": "markdown",
   "metadata": {},
   "source": [
    "# Story API"
   ]
  },
  {
   "cell_type": "code",
   "execution_count": 166,
   "metadata": {},
   "outputs": [
    {
     "name": "stdout",
     "output_type": "stream",
     "text": [
      "{'story_names': []}\n"
     ]
    }
   ],
   "source": [
    "\"\"\"get story names\"\"\"\n",
    "r_get = requests.get(f'{BASE_URL}/projects/project_1/stories', cookies=cookies)\n",
    "print(r_get.json())"
   ]
  },
  {
   "cell_type": "code",
   "execution_count": 167,
   "metadata": {},
   "outputs": [
    {
     "name": "stdout",
     "output_type": "stream",
     "text": [
      "{'msg': 'OK'}\n"
     ]
    }
   ],
   "source": [
    "\"\"\"create a story\"\"\"\n",
    "r_post = requests.post(f'{BASE_URL}/projects/project_1/stories', cookies=cookies, json={'story_name': 'story_1'})\n",
    "print(r_post.json())"
   ]
  },
  {
   "cell_type": "code",
   "execution_count": 168,
   "metadata": {},
   "outputs": [
    {
     "name": "stdout",
     "output_type": "stream",
     "text": [
      "{'msg': 'OK'}\n"
     ]
    }
   ],
   "source": [
    "\"\"\"update a story\"\"\"\n",
    "content = {\n",
    "  \"nodes\": [\n",
    "    {\n",
    "      \"type\": \"default\",\n",
    "      \"dimensions\": {\n",
    "        \"width\": 150,\n",
    "        \"height\": 36\n",
    "      },\n",
    "      \"handleBounds\": {\n",
    "        \"source\": [\n",
    "          {\n",
    "            \"id\": \"1__handle-bottom\",\n",
    "            \"position\": \"bottom\",\n",
    "            \"x\": 71,\n",
    "            \"y\": 31,\n",
    "            \"width\": 8,\n",
    "            \"height\": 8\n",
    "          }\n",
    "        ],\n",
    "        \"target\": [\n",
    "          {\n",
    "            \"id\": \"1__handle-top\",\n",
    "            \"position\": \"top\",\n",
    "            \"x\": 71,\n",
    "            \"y\": -3,\n",
    "            \"width\": 8,\n",
    "            \"height\": 8\n",
    "          }\n",
    "        ]\n",
    "      },\n",
    "      \"computedPosition\": {\n",
    "        \"x\": 100,\n",
    "        \"y\": 100,\n",
    "        \"z\": 0\n",
    "      },\n",
    "      \"id\": \"1\",\n",
    "      \"label\": \"Node 1\",\n",
    "      \"position\": {\n",
    "        \"x\": 100,\n",
    "        \"y\": 100\n",
    "      }\n",
    "    }\n",
    "  ],\n",
    "  \"edges\": [],\n",
    "  \"position\": [\n",
    "    0,\n",
    "    0\n",
    "  ],\n",
    "  \"zoom\": 1\n",
    "}\n",
    "\n",
    "r_put = requests.put(f'{BASE_URL}/projects/project_1/stories/story_1', cookies=cookies, json=content)\n",
    "print(r_put.json())"
   ]
  },
  {
   "cell_type": "code",
   "execution_count": 169,
   "metadata": {},
   "outputs": [
    {
     "name": "stdout",
     "output_type": "stream",
     "text": [
      "{'msg': 'OK'}\n"
     ]
    }
   ],
   "source": [
    "\"\"\"update & rename a story\"\"\"\n",
    "content = {\n",
    "  'new_story_name': 'story_2',\n",
    "  \"nodes\": [\n",
    "    {\n",
    "      \"type\": \"default\",\n",
    "      \"dimensions\": {\n",
    "        \"width\": 150,\n",
    "        \"height\": 36\n",
    "      },\n",
    "      \"handleBounds\": {\n",
    "        \"source\": [\n",
    "          {\n",
    "            \"id\": \"1__handle-bottom\",\n",
    "            \"position\": \"bottom\",\n",
    "            \"x\": 71,\n",
    "            \"y\": 31,\n",
    "            \"width\": 8,\n",
    "            \"height\": 8\n",
    "          }\n",
    "        ],\n",
    "        \"target\": [\n",
    "          {\n",
    "            \"id\": \"1__handle-top\",\n",
    "            \"position\": \"top\",\n",
    "            \"x\": 71,\n",
    "            \"y\": -3,\n",
    "            \"width\": 8,\n",
    "            \"height\": 8\n",
    "          }\n",
    "        ]\n",
    "      },\n",
    "      \"computedPosition\": {\n",
    "        \"x\": 133,\n",
    "        \"y\": 119,\n",
    "        \"z\": 0\n",
    "      },\n",
    "      \"id\": \"1\",\n",
    "      \"label\": \"Node 1\",\n",
    "      \"position\": {\n",
    "        \"x\": 133,\n",
    "        \"y\": 119\n",
    "      },\n",
    "      \"selected\": False\n",
    "    },\n",
    "    {\n",
    "      \"type\": \"default\",\n",
    "      \"dimensions\": {\n",
    "        \"width\": 150,\n",
    "        \"height\": 36\n",
    "      },\n",
    "      \"handleBounds\": {\n",
    "        \"source\": [\n",
    "          {\n",
    "            \"id\": \"random_node-2__handle-bottom\",\n",
    "            \"position\": \"bottom\",\n",
    "            \"x\": 71.00000273177193,\n",
    "            \"y\": 31.000001345439145,\n",
    "            \"width\": 8,\n",
    "            \"height\": 8\n",
    "          }\n",
    "        ],\n",
    "        \"target\": [\n",
    "          {\n",
    "            \"id\": \"random_node-2__handle-top\",\n",
    "            \"position\": \"top\",\n",
    "            \"x\": 71.00000273177193,\n",
    "            \"y\": -2.9999963998813097,\n",
    "            \"width\": 8,\n",
    "            \"height\": 8\n",
    "          }\n",
    "        ]\n",
    "      },\n",
    "      \"computedPosition\": {\n",
    "        \"x\": 133.71891912823548,\n",
    "        \"y\": 177.44093732781238,\n",
    "        \"z\": 1000\n",
    "      },\n",
    "      \"id\": \"random_node-2\",\n",
    "      \"label\": \"Node 2\",\n",
    "      \"position\": {\n",
    "        \"x\": 133.71891912823548,\n",
    "        \"y\": 177.44093732781238\n",
    "      },\n",
    "      \"selected\": True\n",
    "    }\n",
    "  ],\n",
    "  \"edges\": [],\n",
    "  \"position\": [\n",
    "    -126.92906289092366,\n",
    "    -87.27995323994386\n",
    "  ],\n",
    "  \"zoom\": 1.319507910772895\n",
    "}\n",
    "r_put = requests.put(f'{BASE_URL}/projects/project_1/stories/story_1', cookies=cookies, json= content)\n",
    "print(r_put.json())"
   ]
  },
  {
   "cell_type": "code",
   "execution_count": 170,
   "metadata": {},
   "outputs": [
    {
     "name": "stdout",
     "output_type": "stream",
     "text": [
      "{'msg': 'OK'}\n"
     ]
    }
   ],
   "source": [
    "\"\"\"rename a story\"\"\"\n",
    "r_put = requests.put(f'{BASE_URL}/projects/project_1/stories/story_2', cookies=cookies, json={'new_story_name': 'story_1'})\n",
    "print(r_put.json())"
   ]
  },
  {
   "cell_type": "code",
   "execution_count": 171,
   "metadata": {},
   "outputs": [
    {
     "name": "stdout",
     "output_type": "stream",
     "text": [
      "{'msg': 'OK'}\n"
     ]
    }
   ],
   "source": [
    "\"\"\"delete a story\"\"\"\n",
    "r_delete = requests.delete(f'{BASE_URL}/projects/project_1/stories/story_1', cookies=cookies)\n",
    "print(r_delete.json())"
   ]
  },
  {
   "cell_type": "markdown",
   "metadata": {},
   "source": [
    "### Finish test. Delete the project."
   ]
  },
  {
   "cell_type": "code",
   "execution_count": 172,
   "metadata": {},
   "outputs": [
    {
     "name": "stdout",
     "output_type": "stream",
     "text": [
      "{'msg': 'OK'}\n"
     ]
    }
   ],
   "source": [
    "r_delete = requests.delete(f'{BASE_URL}/projects/project_1', cookies=cookies)\n",
    "print(r_delete.json())"
   ]
  },
  {
   "cell_type": "markdown",
   "metadata": {},
   "source": [
    "# temp"
   ]
  },
  {
   "cell_type": "code",
   "execution_count": 173,
   "metadata": {},
   "outputs": [],
   "source": [
    "##json test\n",
    "\n",
    "# from pathlib import Path\n",
    "# p = Path('./test.json')\n",
    "# p.touch()\n",
    "\n",
    "# import json\n",
    "\n",
    "# with open('./test.json', 'w', encoding=\"utf-8\") as i:\n",
    "#     d = {'intent_1':{'examples':['string_1', 'string_2']}, 'intent_2':{'examples':['string_1', 'string_2']}}\n",
    "#     json.dump(d, i, indent=4)\n",
    "\n",
    "# with open('./test.json', 'r', encoding=\"utf-8\") as i:\n",
    "#     j = json.load(i)    "
   ]
  }
 ],
 "metadata": {
  "kernelspec": {
   "display_name": "Python 3.10.4 ('flask')",
   "language": "python",
   "name": "python3"
  },
  "language_info": {
   "codemirror_mode": {
    "name": "ipython",
    "version": 3
   },
   "file_extension": ".py",
   "mimetype": "text/x-python",
   "name": "python",
   "nbconvert_exporter": "python",
   "pygments_lexer": "ipython3",
   "version": "3.10.4"
  },
  "orig_nbformat": 4,
  "vscode": {
   "interpreter": {
    "hash": "0eb48245f6d77da98f7d2bbfee7eae70c4f6ccfbd5806a07f9206030d00440a7"
   }
  }
 },
 "nbformat": 4,
 "nbformat_minor": 2
}
