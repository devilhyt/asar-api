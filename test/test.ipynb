{
 "cells": [
  {
   "cell_type": "code",
   "execution_count": null,
   "metadata": {},
   "outputs": [],
   "source": [
    "import requests\n",
    "# BASE_URL = 'http://127.0.0.1:5000'\n",
    "# BASE_URL = 'http://192.168.0.3:5500'\n",
    "BASE_URL = 'http://asar.lisontech.net'\n"
   ]
  },
  {
   "cell_type": "markdown",
   "metadata": {},
   "source": [
    "# Test Page"
   ]
  },
  {
   "cell_type": "code",
   "execution_count": null,
   "metadata": {},
   "outputs": [],
   "source": [
    "\"\"\"get test\"\"\"\n",
    "\n",
    "r_get = requests.get(url=f'{BASE_URL}')\n",
    "r_get.content\n"
   ]
  },
  {
   "cell_type": "markdown",
   "metadata": {},
   "source": [
    "# AUTH API"
   ]
  },
  {
   "cell_type": "code",
   "execution_count": null,
   "metadata": {},
   "outputs": [],
   "source": [
    "\"\"\"Login\"\"\"\n",
    "\n",
    "r_post = requests.post(url=f'{BASE_URL}/auth',\n",
    "                       json={'username': 'admin', 'password': 'admin'})\n",
    "if r_post.status_code == 200:\n",
    "    token = r_post.json()['access_token']\n",
    "    cookies = r_post.cookies.get_dict()\n",
    "    print(f'token:\\n{token}\\n')\n",
    "    print(f'cookie:\\n{cookies}')\n",
    "else:\n",
    "    print(r_post.json())\n"
   ]
  },
  {
   "cell_type": "code",
   "execution_count": null,
   "metadata": {},
   "outputs": [],
   "source": [
    "\"\"\"Check Login status via header\"\"\"\n",
    "\n",
    "r_get = requests.get(url=f'{BASE_URL}/auth',\n",
    "                     headers={'Authorization': f\"Bearer {token}\"})\n",
    "print(f'via header: {r_get.json()}')\n",
    "\n",
    "\"\"\"Check Login status via cookie\"\"\"\n",
    "\n",
    "r_get = requests.get(url=f'{BASE_URL}/auth', cookies=cookies)\n",
    "print(f'via cookie: {r_get.json()}')\n"
   ]
  },
  {
   "cell_type": "code",
   "execution_count": null,
   "metadata": {},
   "outputs": [],
   "source": [
    "\"\"\"change password\"\"\"\n",
    "r_put = requests.put(url=f'{BASE_URL}/auth',\n",
    "                     cookies=cookies,\n",
    "                     json={'password': 'admin', 'new_password': 'admin'}\n",
    "                    )\n",
    "print(r_put.json())"
   ]
  },
  {
   "cell_type": "code",
   "execution_count": null,
   "metadata": {},
   "outputs": [],
   "source": [
    "\"\"\"Logout\"\"\"\n",
    "r_del = requests.delete(url=f'{BASE_URL}/auth', cookies=cookies)\n",
    "print(r_del.json())\n"
   ]
  },
  {
   "cell_type": "markdown",
   "metadata": {},
   "source": [
    "# GConfig API"
   ]
  },
  {
   "cell_type": "code",
   "execution_count": null,
   "metadata": {},
   "outputs": [],
   "source": [
    "\"\"\"get global config\"\"\"\n",
    "r_get = requests.get(url=f'{BASE_URL}/gconfigs', cookies=cookies)\n",
    "print(r_get.json())"
   ]
  },
  {
   "cell_type": "code",
   "execution_count": null,
   "metadata": {},
   "outputs": [],
   "source": [
    "\"\"\"update global config\"\"\"\n",
    "r_put = requests.put(url=f'{BASE_URL}/gconfigs',\n",
    "                     cookies=cookies,\n",
    "                     json={'docker': {'rasa_container': 'app', 'action_container': 'action'}}\n",
    "                    )\n",
    "print(r_put.json())\n"
   ]
  },
  {
   "cell_type": "markdown",
   "metadata": {},
   "source": [
    "# Project API"
   ]
  },
  {
   "cell_type": "code",
   "execution_count": null,
   "metadata": {},
   "outputs": [],
   "source": [
    "\"\"\"create a project\"\"\"\n",
    "r_post = requests.post(url=f'{BASE_URL}/projects',\n",
    "                       cookies=cookies,\n",
    "                       json={'project_name': 'test_project'})\n",
    "print(r_post.json())\n"
   ]
  },
  {
   "cell_type": "code",
   "execution_count": null,
   "metadata": {},
   "outputs": [],
   "source": [
    "\"\"\"get project names\"\"\"\n",
    "r_get = requests.get(url=f'{BASE_URL}/projects', cookies=cookies)\n",
    "print(r_get.json())\n"
   ]
  },
  {
   "cell_type": "code",
   "execution_count": null,
   "metadata": {},
   "outputs": [],
   "source": [
    "\"\"\"rename a project\"\"\"\n",
    "r_put = requests.put(url=f'{BASE_URL}/projects/test_project',\n",
    "                     cookies=cookies, \n",
    "                     json={'new_name': 'test_project_2'})\n",
    "print(r_put.json())\n"
   ]
  },
  {
   "cell_type": "code",
   "execution_count": null,
   "metadata": {},
   "outputs": [],
   "source": [
    "\"\"\"delete a project\"\"\"\n",
    "r_delete = requests.delete(url=f'{BASE_URL}/projects/test_project_2',\n",
    "                           cookies=cookies)\n",
    "print(r_delete.json())\n"
   ]
  },
  {
   "cell_type": "markdown",
   "metadata": {},
   "source": [
    "### Create a project for test below"
   ]
  },
  {
   "cell_type": "code",
   "execution_count": null,
   "metadata": {},
   "outputs": [],
   "source": [
    "r_post = requests.post(url=f'{BASE_URL}/projects',\n",
    "                       cookies=cookies, \n",
    "                       json={'project_name': 'test_project'})\n",
    "print(r_post.json())\n"
   ]
  },
  {
   "cell_type": "markdown",
   "metadata": {},
   "source": [
    "# LConfig API"
   ]
  },
  {
   "cell_type": "code",
   "execution_count": null,
   "metadata": {},
   "outputs": [],
   "source": [
    "\"\"\"get local config\"\"\"\n",
    "r_get = requests.get(url=f'{BASE_URL}/projects/test_project/lconfigs', cookies=cookies)\n",
    "print(r_get.text)"
   ]
  },
  {
   "cell_type": "code",
   "execution_count": null,
   "metadata": {},
   "outputs": [],
   "source": [
    "\"\"\"update local config\"\"\"\n",
    "r_put = requests.put(url=f'{BASE_URL}/projects/test_project/lconfigs',\n",
    "                     cookies=cookies,\n",
    "                     data='recipe: default.v1\\nlanguage: zh\\n')\n",
    "print(r_put.json())"
   ]
  },
  {
   "cell_type": "markdown",
   "metadata": {},
   "source": [
    "# Intent API"
   ]
  },
  {
   "cell_type": "code",
   "execution_count": null,
   "metadata": {},
   "outputs": [],
   "source": [
    "\"\"\"create an intent\"\"\"\n",
    "r_post = requests.post(url=f'{BASE_URL}/projects/test_project/intents',\n",
    "                       cookies=cookies,\n",
    "                       json={'name': 'intent_1'})\n",
    "print(r_post.json())\n"
   ]
  },
  {
   "cell_type": "code",
   "execution_count": null,
   "metadata": {},
   "outputs": [],
   "source": [
    "\"\"\"get intents\"\"\"\n",
    "r_get = requests.get(url=f'{BASE_URL}/projects/test_project/intents',\n",
    "                     cookies=cookies)\n",
    "print(r_get.json())\n",
    "r_get = requests.get(url=f'{BASE_URL}/projects/test_project/intents?mode=name',\n",
    "                     cookies=cookies)\n",
    "print(r_get.json())\n"
   ]
  },
  {
   "cell_type": "code",
   "execution_count": null,
   "metadata": {},
   "outputs": [],
   "source": [
    "\"\"\"get an intent\"\"\"\n",
    "r_get = requests.get(url=f'{BASE_URL}/projects/test_project/intents/intent_1',\n",
    "                     cookies=cookies)\n",
    "print(r_get.json())\n"
   ]
  },
  {
   "cell_type": "code",
   "execution_count": null,
   "metadata": {},
   "outputs": [],
   "source": [
    "\"\"\"update & rename an intent\"\"\"\n",
    "r_put = requests.put(url=f'{BASE_URL}/projects/test_project/intents/intent_1',\n",
    "                     cookies=cookies,\n",
    "                     json={'new_name': 'intent_2', \"content\": {'examples': [{'text': 'string_1'}, {'text': 'string_2'}], 'use_entities': ['entity_1', 'entity_2']}})\n",
    "print(r_put.json())\n"
   ]
  },
  {
   "cell_type": "code",
   "execution_count": null,
   "metadata": {},
   "outputs": [],
   "source": [
    "\"\"\"delete an intent\"\"\"\n",
    "r_delete = requests.delete(url=f'{BASE_URL}/projects/test_project/intents/intent_2',\n",
    "                           cookies=cookies)\n",
    "print(r_delete.json())\n"
   ]
  },
  {
   "cell_type": "markdown",
   "metadata": {},
   "source": [
    "# Response API"
   ]
  },
  {
   "cell_type": "code",
   "execution_count": null,
   "metadata": {},
   "outputs": [],
   "source": [
    "\"\"\"create a response\"\"\"\n",
    "r_post = requests.post(url=f'{BASE_URL}/projects/test_project/responses',\n",
    "                       cookies=cookies,\n",
    "                       json={'name': 'response_1'})\n",
    "print(r_post.json())"
   ]
  },
  {
   "cell_type": "code",
   "execution_count": null,
   "metadata": {},
   "outputs": [],
   "source": [
    "\"\"\"get responses\"\"\"\n",
    "r_get = requests.get(url=f'{BASE_URL}/projects/test_project/responses',\n",
    "                     cookies=cookies)\n",
    "print(r_get.json())\n",
    "r_get = requests.get(url=f'{BASE_URL}/projects/test_project/responses?mode=name',\n",
    "                     cookies=cookies)\n",
    "print(r_get.json())"
   ]
  },
  {
   "cell_type": "code",
   "execution_count": null,
   "metadata": {},
   "outputs": [],
   "source": [
    "\"\"\"get a response\"\"\"\n",
    "r_get = requests.get(url=f'{BASE_URL}/projects/test_project/responses/response_1',\n",
    "                     cookies=cookies)\n",
    "print(r_get.json())"
   ]
  },
  {
   "cell_type": "code",
   "execution_count": null,
   "metadata": {},
   "outputs": [],
   "source": [
    "\"\"\"update & rename a response\"\"\"\n",
    "r_put = requests.put(url=f'{BASE_URL}/projects/test_project/responses/response_1',\n",
    "                     cookies=cookies,\n",
    "                     json={'new_name': 'response_2', \"content\": {'data': [{'text': 'string_1'}, {'text': 'string_2'}]}})\n",
    "print(r_put.json())"
   ]
  },
  {
   "cell_type": "code",
   "execution_count": null,
   "metadata": {},
   "outputs": [],
   "source": [
    "\"\"\"delete a response\"\"\"\n",
    "r_delete = requests.delete(url=f'{BASE_URL}/projects/test_project/responses/response_2',\n",
    "                           cookies=cookies)\n",
    "print(r_delete.json())"
   ]
  },
  {
   "cell_type": "markdown",
   "metadata": {},
   "source": [
    "# Action API"
   ]
  },
  {
   "cell_type": "code",
   "execution_count": null,
   "metadata": {},
   "outputs": [],
   "source": [
    "\"\"\"create an action\"\"\"\n",
    "r_post = requests.post(url=f'{BASE_URL}/projects/test_project/actions',\n",
    "                       cookies=cookies,\n",
    "                       json={'name': 'action_1'})\n",
    "print(r_post.json())\n"
   ]
  },
  {
   "cell_type": "code",
   "execution_count": null,
   "metadata": {},
   "outputs": [],
   "source": [
    "\"\"\"get actions\"\"\"\n",
    "r_get = requests.get(url=f'{BASE_URL}/projects/test_project/actions',\n",
    "                     cookies=cookies)\n",
    "print(r_get.json())\n",
    "r_get = requests.get(url=f'{BASE_URL}/projects/test_project/actions?mode=name',\n",
    "                     cookies=cookies)\n",
    "print(r_get.json())\n"
   ]
  },
  {
   "cell_type": "code",
   "execution_count": null,
   "metadata": {},
   "outputs": [],
   "source": [
    "\"\"\"get an action\"\"\"\n",
    "r_get = requests.get(url=f'{BASE_URL}/projects/test_project/actions/action_1',\n",
    "                     cookies=cookies)\n",
    "print(r_get.json())\n"
   ]
  },
  {
   "cell_type": "code",
   "execution_count": null,
   "metadata": {},
   "outputs": [],
   "source": [
    "\"\"\"update & rename an action\"\"\"\n",
    "content = {\n",
    "    'new_name': 'action_2',\n",
    "    \"content\": {\n",
    "        \"blockly\": {},\n",
    "        \"packages\": [],\n",
    "        \"code\": \"dispatcher.utter_message(text='Hello')\"\n",
    "    }\n",
    "}\n",
    "r_put = requests.put(url=f'{BASE_URL}/projects/test_project/actions/action_1',\n",
    "                     cookies=cookies,\n",
    "                     json=content)\n",
    "print(r_put.json())\n"
   ]
  },
  {
   "cell_type": "code",
   "execution_count": null,
   "metadata": {},
   "outputs": [],
   "source": [
    "\"\"\"delete an action\"\"\"\n",
    "r_delete = requests.delete(url=f'{BASE_URL}/projects/test_project/actions/action_2',\n",
    "                           cookies=cookies)\n",
    "print(r_delete.json())\n"
   ]
  },
  {
   "cell_type": "markdown",
   "metadata": {},
   "source": [
    "# Synonym API"
   ]
  },
  {
   "cell_type": "code",
   "execution_count": null,
   "metadata": {},
   "outputs": [],
   "source": [
    "\"\"\"create an synonym\"\"\"\n",
    "r_post = requests.post(url=f'{BASE_URL}/projects/test_project/synonyms',\n",
    "                       cookies=cookies,\n",
    "                       json={'name': 'synonym_1'})\n",
    "print(r_post.json())\n"
   ]
  },
  {
   "cell_type": "code",
   "execution_count": null,
   "metadata": {},
   "outputs": [],
   "source": [
    "\"\"\"get synonyms\"\"\"\n",
    "r_get = requests.get(url=f'{BASE_URL}/projects/test_project/synonyms',\n",
    "                     cookies=cookies)\n",
    "print(r_get.json())\n",
    "r_get = requests.get(url=f'{BASE_URL}/projects/test_project/synonyms?mode=name',\n",
    "                     cookies=cookies)\n",
    "print(r_get.json())\n"
   ]
  },
  {
   "cell_type": "code",
   "execution_count": null,
   "metadata": {},
   "outputs": [],
   "source": [
    "\"\"\"get a synonym\"\"\"\n",
    "r_get = requests.get(url=f'{BASE_URL}/projects/test_project/synonyms/synonym_1',\n",
    "                     cookies=cookies)\n",
    "print(r_get.json())\n"
   ]
  },
  {
   "cell_type": "code",
   "execution_count": null,
   "metadata": {},
   "outputs": [],
   "source": [
    "\"\"\"update & rename a synonym\"\"\"\n",
    "r_put = requests.put(url=f'{BASE_URL}/projects/test_project/synonyms/synonym_1',\n",
    "                     cookies=cookies,\n",
    "                     json={'new_name': 'synonym_2', \"content\": {'examples': ['synonym_22']}})\n",
    "print(r_put.json())\n"
   ]
  },
  {
   "cell_type": "code",
   "execution_count": null,
   "metadata": {},
   "outputs": [],
   "source": [
    "\"\"\"delete a synonym\"\"\"\n",
    "r_delete = requests.delete(url=f'{BASE_URL}/projects/test_project/synonyms/synonym_2',\n",
    "                           cookies=cookies)\n",
    "print(r_delete.json())\n"
   ]
  },
  {
   "cell_type": "markdown",
   "metadata": {},
   "source": [
    "# Entity API"
   ]
  },
  {
   "cell_type": "code",
   "execution_count": null,
   "metadata": {},
   "outputs": [],
   "source": [
    "\"\"\"create an entity\"\"\"\n",
    "r_post = requests.post(url=f'{BASE_URL}/projects/test_project/entities',\n",
    "                       cookies=cookies,\n",
    "                       json={'name': 'entity_1'})\n",
    "print(r_post.json())\n"
   ]
  },
  {
   "cell_type": "code",
   "execution_count": null,
   "metadata": {},
   "outputs": [],
   "source": [
    "\"\"\"get entities\"\"\"\n",
    "r_get = requests.get(url=f'{BASE_URL}/projects/test_project/entities',\n",
    "                     cookies=cookies)\n",
    "print(r_get.json())\n",
    "r_get = requests.get(url=f'{BASE_URL}/projects/test_project/entities?mode=name',\n",
    "                     cookies=cookies)\n",
    "print(r_get.json())\n"
   ]
  },
  {
   "cell_type": "code",
   "execution_count": null,
   "metadata": {},
   "outputs": [],
   "source": [
    "\"\"\"get an entity\"\"\"\n",
    "r_get = requests.get(url=f'{BASE_URL}/projects/test_project/entities/entity_1',\n",
    "                     cookies=cookies)\n",
    "print(r_get.json())\n"
   ]
  },
  {
   "cell_type": "code",
   "execution_count": null,
   "metadata": {},
   "outputs": [],
   "source": [
    "\"\"\"update & rename an entity\"\"\"\n",
    "r_put = requests.put(url=f'{BASE_URL}/projects/test_project/entities/entity_1',\n",
    "                     cookies=cookies,\n",
    "                     json={'new_name': 'entity_2', \"content\":{'roles': ['role_1', 'role_2'], 'groups': ['group_1', 'group_2']}})\n",
    "print(r_put.json())\n"
   ]
  },
  {
   "cell_type": "code",
   "execution_count": null,
   "metadata": {},
   "outputs": [],
   "source": [
    "\"\"\"delete an entity\"\"\"\n",
    "r_delete = requests.delete(url=f'{BASE_URL}/projects/test_project/entities/entity_2',\n",
    "                           cookies=cookies)\n",
    "print(r_delete.json())\n"
   ]
  },
  {
   "cell_type": "markdown",
   "metadata": {},
   "source": [
    "# Slot API"
   ]
  },
  {
   "cell_type": "code",
   "execution_count": null,
   "metadata": {},
   "outputs": [],
   "source": [
    "\"\"\"create a slot\"\"\"\n",
    "content = {'name': 'slot_1'}\n",
    "r_post = requests.post(url=f'{BASE_URL}/projects/test_project/slots',\n",
    "                       cookies=cookies,\n",
    "                       json=content)\n",
    "print(r_post.json())\n"
   ]
  },
  {
   "cell_type": "code",
   "execution_count": null,
   "metadata": {},
   "outputs": [],
   "source": [
    "\"\"\"get slot\"\"\"\n",
    "r_get = requests.get(url=f'{BASE_URL}/projects/test_project/slots',\n",
    "                     cookies=cookies)\n",
    "print(r_get.json())\n",
    "r_get = requests.get(url=f'{BASE_URL}/projects/test_project/slots?mode=name',\n",
    "                     cookies=cookies)\n",
    "print(r_get.json())\n"
   ]
  },
  {
   "cell_type": "code",
   "execution_count": null,
   "metadata": {},
   "outputs": [],
   "source": [
    "\"\"\"get a slot\"\"\"\n",
    "r_get = requests.get(url=f'{BASE_URL}/projects/test_project/slots/slot_1',\n",
    "                     cookies=cookies)\n",
    "print(r_get.json())\n"
   ]
  },
  {
   "cell_type": "code",
   "execution_count": null,
   "metadata": {},
   "outputs": [],
   "source": [
    "\"\"\"update & rename a slot\"\"\"\n",
    "content = {\n",
    "    'new_name': 'slot_2',\n",
    "    \"content\": {\n",
    "        'type': 'text',\n",
    "        'mappings': [\n",
    "            {'type': 'custom'}\n",
    "        ]\n",
    "    }\n",
    "}\n",
    "r_put = requests.put(url=f'{BASE_URL}/projects/test_project/slots/slot_1',\n",
    "                     cookies=cookies,\n",
    "                     json=content)\n",
    "print(r_put.json())\n"
   ]
  },
  {
   "cell_type": "code",
   "execution_count": null,
   "metadata": {},
   "outputs": [],
   "source": [
    "\"\"\"delete a slot\"\"\"\n",
    "r_delete = requests.delete(url=f'{BASE_URL}/projects/test_project/slots/slot_2',\n",
    "                           cookies=cookies)\n",
    "print(r_delete.json())\n"
   ]
  },
  {
   "cell_type": "markdown",
   "metadata": {},
   "source": [
    "# Form API"
   ]
  },
  {
   "cell_type": "code",
   "execution_count": null,
   "metadata": {},
   "outputs": [],
   "source": [
    "\"\"\"create a form\"\"\"\n",
    "r_post = requests.post(url=f'{BASE_URL}/projects/test_project/forms',\n",
    "                       cookies=cookies,\n",
    "                       json={'name': 'form_1'})\n",
    "print(r_post.json())"
   ]
  },
  {
   "cell_type": "code",
   "execution_count": null,
   "metadata": {},
   "outputs": [],
   "source": [
    "\"\"\"get forms\"\"\"\n",
    "r_get = requests.get(url=f'{BASE_URL}/projects/test_project/forms',\n",
    "                     cookies=cookies)\n",
    "print(r_get.json())\n",
    "r_get = requests.get(url=f'{BASE_URL}/projects/test_project/forms?mode=name',\n",
    "                     cookies=cookies)\n",
    "print(r_get.json())"
   ]
  },
  {
   "cell_type": "code",
   "execution_count": null,
   "metadata": {},
   "outputs": [],
   "source": [
    "\"\"\"get a form\"\"\"\n",
    "r_get = requests.get(url=f'{BASE_URL}/projects/test_project/forms/form_1',\n",
    "                     cookies=cookies)\n",
    "print(r_get.json())"
   ]
  },
  {
   "cell_type": "code",
   "execution_count": null,
   "metadata": {},
   "outputs": [],
   "source": [
    "\"\"\"update & rename a form\"\"\"\n",
    "r_put = requests.put(url=f'{BASE_URL}/projects/test_project/forms/form_1',\n",
    "                     cookies=cookies,\n",
    "                     json={'new_name': 'form_2', \"content\": {'required_slots': ['slot_1', 'slot_2'], 'ignored_intents': ['intent_1', 'intent_2']}})\n",
    "print(r_put.json())\n"
   ]
  },
  {
   "cell_type": "code",
   "execution_count": null,
   "metadata": {},
   "outputs": [],
   "source": [
    "\"\"\"delete a form\"\"\"\n",
    "r_delete = requests.delete(url=f'{BASE_URL}/projects/test_project/forms/form_2',\n",
    "                           cookies=cookies)\n",
    "print(r_delete.json())"
   ]
  },
  {
   "cell_type": "markdown",
   "metadata": {},
   "source": [
    "# Story API"
   ]
  },
  {
   "cell_type": "code",
   "execution_count": null,
   "metadata": {},
   "outputs": [],
   "source": [
    "\"\"\"create a story\"\"\"\n",
    "r_post = requests.post(url=f'{BASE_URL}/projects/test_project/stories',\n",
    "                       cookies=cookies,\n",
    "                       json={'name': 'story_1'})\n",
    "print(r_post.json())\n"
   ]
  },
  {
   "cell_type": "code",
   "execution_count": null,
   "metadata": {},
   "outputs": [],
   "source": [
    "\"\"\"get story\"\"\"\n",
    "r_get = requests.get(url=f'{BASE_URL}/projects/test_project/stories',\n",
    "                     cookies=cookies)\n",
    "print(r_get.json())\n",
    "r_get = requests.get(url=f'{BASE_URL}/projects/test_project/stories?mode=name',\n",
    "                     cookies=cookies)\n",
    "print(r_get.json())\n"
   ]
  },
  {
   "cell_type": "code",
   "execution_count": null,
   "metadata": {},
   "outputs": [],
   "source": [
    "\"\"\"get a stroy\"\"\"\n",
    "r_get = requests.get(url=f'{BASE_URL}/projects/test_project/stories/story_1',\n",
    "                     cookies=cookies)\n",
    "print(r_get.json())\n"
   ]
  },
  {
   "cell_type": "code",
   "execution_count": null,
   "metadata": {},
   "outputs": [],
   "source": [
    "\"\"\"update & rename a story\"\"\"\n",
    "content = {\n",
    "    'new_name': 'story_2',\n",
    "    \"content\": {\n",
    "        \"nodes\": [],\n",
    "        \"edges\": [],\n",
    "        \"position\": [],\n",
    "        \"zoom\": 1\n",
    "    }\n",
    "}\n",
    "r_put = requests.put(url=f'{BASE_URL}/projects/test_project/stories/story_1',\n",
    "                     cookies=cookies,\n",
    "                     json=content)\n",
    "print(r_put.json())\n"
   ]
  },
  {
   "cell_type": "code",
   "execution_count": null,
   "metadata": {},
   "outputs": [],
   "source": [
    "\"\"\"delete a story\"\"\"\n",
    "r_delete = requests.delete(url=f'{BASE_URL}/projects/test_project/stories/story_2',\n",
    "                           cookies=cookies)\n",
    "print(r_delete.json())\n"
   ]
  },
  {
   "cell_type": "markdown",
   "metadata": {},
   "source": [
    "# Rule API"
   ]
  },
  {
   "cell_type": "code",
   "execution_count": null,
   "metadata": {},
   "outputs": [],
   "source": [
    "\"\"\"create a rule\"\"\"\n",
    "r_post = requests.post(url=f'{BASE_URL}/projects/test_project/rules',\n",
    "                       cookies=cookies,\n",
    "                       json={'name': 'rule_1'})\n",
    "print(r_post.json())\n"
   ]
  },
  {
   "cell_type": "code",
   "execution_count": null,
   "metadata": {},
   "outputs": [],
   "source": [
    "\"\"\"get rule names\"\"\"\n",
    "r_get = requests.get(url=f'{BASE_URL}/projects/test_project/rules',\n",
    "                     cookies=cookies)\n",
    "print(r_get.json())\n",
    "r_get = requests.get(url=f'{BASE_URL}/projects/test_project/rules?mode=name',\n",
    "                     cookies=cookies)\n",
    "print(r_get.json())\n",
    "\n"
   ]
  },
  {
   "cell_type": "code",
   "execution_count": null,
   "metadata": {},
   "outputs": [],
   "source": [
    "\"\"\"get a rule\"\"\"\n",
    "r_get = requests.get(url=f'{BASE_URL}/projects/test_project/rules/rule_1',\n",
    "                     cookies=cookies)\n",
    "print(r_get.json())\n"
   ]
  },
  {
   "cell_type": "code",
   "execution_count": null,
   "metadata": {},
   "outputs": [],
   "source": [
    "\"\"\"update & rename a rule\"\"\"\n",
    "content = {\n",
    "    'new_name': 'rule_2',\n",
    "    \"content\": {\n",
    "        \"nodes\": [],\n",
    "        \"edges\": [],\n",
    "        \"position\": [],\n",
    "        \"zoom\": 1\n",
    "    }\n",
    "}\n",
    "r_put = requests.put(url=f'{BASE_URL}/projects/test_project/rules/rule_1',\n",
    "                     cookies=cookies,\n",
    "                     json=content)\n",
    "print(r_put.json())\n"
   ]
  },
  {
   "cell_type": "code",
   "execution_count": null,
   "metadata": {},
   "outputs": [],
   "source": [
    "\"\"\"delete a rule\"\"\"\n",
    "r_delete = requests.delete(url=f'{BASE_URL}/projects/test_project/rules/rule_2',\n",
    "                           cookies=cookies)\n",
    "print(r_delete.json())\n"
   ]
  },
  {
   "cell_type": "markdown",
   "metadata": {},
   "source": [
    "# Model API"
   ]
  },
  {
   "cell_type": "code",
   "execution_count": null,
   "metadata": {},
   "outputs": [],
   "source": [
    "\"\"\"Get training info\"\"\"\n",
    "r_get = requests.get(url=f'{BASE_URL}/models', cookies=cookies)\n",
    "print(r_get.json())"
   ]
  },
  {
   "cell_type": "code",
   "execution_count": null,
   "metadata": {},
   "outputs": [],
   "source": [
    "\"\"\"Train a mode\"\"\"\n",
    "r_post = requests.post(url=f'{BASE_URL}/models',\n",
    "                       cookies=cookies,\n",
    "                       json={'project_name': 'test_project'})\n",
    "print(r_post.json())"
   ]
  },
  {
   "cell_type": "code",
   "execution_count": null,
   "metadata": {},
   "outputs": [],
   "source": [
    "\"\"\"Load a model\"\"\"\n",
    "r_put = requests.put(url=f'{BASE_URL}/models',\n",
    "                       cookies=cookies,\n",
    "                       json={'project_name': 'test_project'})\n",
    "print(r_put.json())"
   ]
  },
  {
   "cell_type": "markdown",
   "metadata": {},
   "source": [
    "### Finish test. Delete the project."
   ]
  },
  {
   "cell_type": "code",
   "execution_count": null,
   "metadata": {},
   "outputs": [],
   "source": [
    "r_delete = requests.delete(url=f'{BASE_URL}/projects/test_project',\n",
    "                           cookies=cookies)\n",
    "print(r_delete.json())\n"
   ]
  },
  {
   "cell_type": "code",
   "execution_count": null,
   "metadata": {},
   "outputs": [],
   "source": [
    "assert False, \"breakpoint\""
   ]
  },
  {
   "cell_type": "markdown",
   "metadata": {},
   "source": [
    "# temp"
   ]
  },
  {
   "cell_type": "code",
   "execution_count": null,
   "metadata": {},
   "outputs": [],
   "source": [
    "# import json\n",
    "\n",
    "# url = 'http://localhost:5005/webhooks/rest/webhook'\n",
    "# data = {'sender': 'test_user', 'message' : 'Hi!'}\n",
    "\n",
    "# if __name__ == \"__main__\":\n",
    "#     response = requests.post(url, data = json.dumps(data))\n",
    "#     print(response.text)"
   ]
  },
  {
   "cell_type": "code",
   "execution_count": null,
   "metadata": {},
   "outputs": [],
   "source": [
    "\"\"\"Get training info\"\"\"\n",
    "r_get = requests.get(url=f'{BASE_URL}/models', cookies=cookies)\n",
    "print(r_get.json())"
   ]
  },
  {
   "cell_type": "code",
   "execution_count": null,
   "metadata": {},
   "outputs": [],
   "source": [
    "\"\"\"Train a mode\"\"\"\n",
    "r_post = requests.post(url=f'{BASE_URL}/models',\n",
    "                       cookies=cookies,\n",
    "                       json={'project_name': 'rasa_bot'})\n",
    "print(r_post.json())"
   ]
  },
  {
   "cell_type": "code",
   "execution_count": null,
   "metadata": {},
   "outputs": [],
   "source": [
    "\"\"\"Load a model\"\"\"\n",
    "r_put = requests.put(url=f'{BASE_URL}/models',\n",
    "                       cookies=cookies,\n",
    "                       json={'project_name': 'rasa_bot'})\n",
    "print(r_put.json())"
   ]
  },
  {
   "cell_type": "code",
   "execution_count": null,
   "metadata": {},
   "outputs": [],
   "source": [
    "# \"\"\"Load a model(localhost)\"\"\"\n",
    "# resp = requests.put(url=f'http://127.0.0.1:5005/model',\n",
    "#                     json={'model_file': '/data/asar_projects/rasa_bot/output/rasa_bot.tar.gz'})\n",
    "# resp.status_code\n"
   ]
  },
  {
   "cell_type": "code",
   "execution_count": null,
   "metadata": {},
   "outputs": [],
   "source": [
    "resp = requests.get(url=f'http://rasa.lisontech.net/status')\n",
    "resp.json()"
   ]
  },
  {
   "cell_type": "code",
   "execution_count": null,
   "metadata": {},
   "outputs": [],
   "source": [
    "resp = requests.delete(url=f'http://rasa.lisontech.net/model')"
   ]
  },
  {
   "cell_type": "code",
   "execution_count": null,
   "metadata": {},
   "outputs": [],
   "source": [
    "# import httpx, asyncio, datetime\n",
    "# async def request_async():\n",
    "#     async with httpx.AsyncClient() as client:\n",
    "#         print(datetime.datetime.now().isoformat())\n",
    "#         r = await client.post(url=f'{BASE_URL}/models',\n",
    "#                             cookies=cookies,\n",
    "#                             json={'project_name': 'rasa_bot'})\n",
    "#     return r.text\n",
    "\n",
    "# await asyncio.gather(request_async(),request_async())\n",
    "# await request_async()"
   ]
  }
 ],
 "metadata": {
  "kernelspec": {
   "display_name": "Python 3.10.7 64-bit ('venv')",
   "language": "python",
   "name": "python3"
  },
  "language_info": {
   "codemirror_mode": {
    "name": "ipython",
    "version": 3
   },
   "file_extension": ".py",
   "mimetype": "text/x-python",
   "name": "python",
   "nbconvert_exporter": "python",
   "pygments_lexer": "ipython3",
   "version": "3.10.7"
  },
  "orig_nbformat": 4,
  "vscode": {
   "interpreter": {
    "hash": "d5a93f04303b4b3c5a779331b74705a9d4021afccf2f818a1bfe8f9513487345"
   }
  }
 },
 "nbformat": 4,
 "nbformat_minor": 2
}
