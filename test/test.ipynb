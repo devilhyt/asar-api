{
 "cells": [
  {
   "cell_type": "code",
   "execution_count": null,
   "metadata": {},
   "outputs": [],
   "source": [
    "import requests\n",
    "# BASE_URL = 'http://127.0.0.1:5000'\n",
    "# BASE_URL = 'http://192.168.0.3:5500'\n",
    "BASE_URL = 'http://asar.lisontech.net'\n"
   ]
  },
  {
   "cell_type": "markdown",
   "metadata": {},
   "source": [
    "# Test Page"
   ]
  },
  {
   "cell_type": "code",
   "execution_count": null,
   "metadata": {},
   "outputs": [],
   "source": [
    "\"\"\"get test\"\"\"\n",
    "\n",
    "r_get = requests.get(url=f'{BASE_URL}')\n",
    "r_get.content\n"
   ]
  },
  {
   "cell_type": "code",
   "execution_count": null,
   "metadata": {},
   "outputs": [],
   "source": [
    "\"\"\"post test\"\"\"\n",
    "\n",
    "r_get = requests.post(url=f'{BASE_URL}/test?mode=name', json={\"key\": 'value'})\n",
    "r_get.content\n"
   ]
  },
  {
   "cell_type": "code",
   "execution_count": null,
   "metadata": {},
   "outputs": [],
   "source": [
    "\"\"\"json test\"\"\"\n",
    "\n",
    "r_get = requests.get(url=f'{BASE_URL}/json')\n",
    "print(r_get.json())\n"
   ]
  },
  {
   "cell_type": "markdown",
   "metadata": {},
   "source": [
    "# AUTH API"
   ]
  },
  {
   "cell_type": "code",
   "execution_count": null,
   "metadata": {},
   "outputs": [],
   "source": [
    "\"\"\"Login\"\"\"\n",
    "\n",
    "r_post = requests.post(url=f'{BASE_URL}/auth',\n",
    "                       json={'username': 'admin', 'password': 'admin'})\n",
    "if r_post.status_code == 200:\n",
    "    token = r_post.json()['access_token']\n",
    "    cookies = r_post.cookies.get_dict()\n",
    "    print(f'token:\\n{token}\\n')\n",
    "    print(f'cookie:\\n{cookies}')\n",
    "else:\n",
    "    print(r_post.json())\n"
   ]
  },
  {
   "cell_type": "code",
   "execution_count": null,
   "metadata": {},
   "outputs": [],
   "source": [
    "\"\"\"Check Login status via header\"\"\"\n",
    "\n",
    "r_get = requests.get(url=f'{BASE_URL}/auth',\n",
    "                     headers={'Authorization': f\"Bearer {token}\"})\n",
    "print(f'via header: {r_get.json()}')\n",
    "\n",
    "\"\"\"Check Login status via cookie\"\"\"\n",
    "\n",
    "r_get = requests.get(url=f'{BASE_URL}/auth', cookies=cookies)\n",
    "print(f'via cookie: {r_get.json()}')\n"
   ]
  },
  {
   "cell_type": "code",
   "execution_count": null,
   "metadata": {},
   "outputs": [],
   "source": [
    "\"\"\"Logout\"\"\"\n",
    "r_del = requests.delete(url=f'{BASE_URL}/auth', cookies=cookies)\n",
    "print(r_del.json())\n"
   ]
  },
  {
   "cell_type": "markdown",
   "metadata": {},
   "source": [
    "# GConfig API"
   ]
  },
  {
   "cell_type": "code",
   "execution_count": null,
   "metadata": {},
   "outputs": [],
   "source": [
    "\"\"\"get global config\"\"\"\n",
    "r_get = requests.get(url=f'{BASE_URL}/gconfigs', cookies=cookies)\n",
    "print(r_get.json())"
   ]
  },
  {
   "cell_type": "code",
   "execution_count": null,
   "metadata": {},
   "outputs": [],
   "source": [
    "\"\"\"update global config\"\"\"\n",
    "r_put = requests.put(url=f'{BASE_URL}/gconfigs',\n",
    "                     cookies=cookies,\n",
    "                     json={'docker': {'rasa_container': 'app', 'action_container': 'action', 'asar_api_url': 'http://api:5500', 'rasa_api_url': 'http://app:5005'}, 'credentials': {'rest': None, 'rasa': {'url': 'http://localhost:5002/api'}, 'telegram': None, 'facebook': None}, 'endpoints': {'action_endpoint': {'url': 'http://localhost:5055/webhook'}}}\n",
    ")\n",
    "print(r_put.json())\n"
   ]
  },
  {
   "cell_type": "markdown",
   "metadata": {},
   "source": [
    "# Project API"
   ]
  },
  {
   "cell_type": "code",
   "execution_count": null,
   "metadata": {},
   "outputs": [],
   "source": [
    "\"\"\"create project\"\"\"\n",
    "r_post = requests.post(url=f'{BASE_URL}/projects',\n",
    "                       cookies=cookies,\n",
    "                       json={'project_name': 'test_project'})\n",
    "print(r_post.json())\n"
   ]
  },
  {
   "cell_type": "code",
   "execution_count": null,
   "metadata": {},
   "outputs": [],
   "source": [
    "\"\"\"get project names\"\"\"\n",
    "r_get = requests.get(url=f'{BASE_URL}/projects', cookies=cookies)\n",
    "print(r_get.json())\n"
   ]
  },
  {
   "cell_type": "code",
   "execution_count": null,
   "metadata": {},
   "outputs": [],
   "source": [
    "\"\"\"update project\"\"\"\n",
    "r_put = requests.put(url=f'{BASE_URL}/projects/test_project',\n",
    "                     cookies=cookies, \n",
    "                     json={'new_project_name': 'test_project_2'})\n",
    "print(r_put.json())\n"
   ]
  },
  {
   "cell_type": "code",
   "execution_count": null,
   "metadata": {},
   "outputs": [],
   "source": [
    "\"\"\"delete project\"\"\"\n",
    "r_delete = requests.delete(url=f'{BASE_URL}/projects/test_project_2',\n",
    "                           cookies=cookies)\n",
    "print(r_delete.json())\n"
   ]
  },
  {
   "cell_type": "markdown",
   "metadata": {},
   "source": [
    "### Create a project for test below"
   ]
  },
  {
   "cell_type": "code",
   "execution_count": null,
   "metadata": {},
   "outputs": [],
   "source": [
    "r_post = requests.post(url=f'{BASE_URL}/projects',\n",
    "                       cookies=cookies, \n",
    "                       json={'project_name': 'test_project'})\n",
    "print(r_post.json())\n"
   ]
  },
  {
   "cell_type": "markdown",
   "metadata": {},
   "source": [
    "# LConfig API"
   ]
  },
  {
   "cell_type": "code",
   "execution_count": null,
   "metadata": {},
   "outputs": [],
   "source": [
    "\"\"\"get local config\"\"\"\n",
    "r_get = requests.get(url=f'{BASE_URL}/projects/test_project/lconfigs', cookies=cookies)\n",
    "print(r_get.text)"
   ]
  },
  {
   "cell_type": "code",
   "execution_count": null,
   "metadata": {},
   "outputs": [],
   "source": [
    "\"\"\"update local config\"\"\"\n",
    "r_put = requests.put(url=f'{BASE_URL}/projects/test_project/lconfigs',\n",
    "                     cookies=cookies,\n",
    "                     data='language: zh')\n",
    "print(r_put.json())"
   ]
  },
  {
   "cell_type": "markdown",
   "metadata": {},
   "source": [
    "# Intent API"
   ]
  },
  {
   "cell_type": "code",
   "execution_count": null,
   "metadata": {},
   "outputs": [],
   "source": [
    "\"\"\"create an intent\"\"\"\n",
    "r_post = requests.post(url=f'{BASE_URL}/projects/test_project/intents',\n",
    "                       cookies=cookies,\n",
    "                       json={'name': 'intent_1'})\n",
    "print(r_post.json())\n"
   ]
  },
  {
   "cell_type": "code",
   "execution_count": null,
   "metadata": {},
   "outputs": [],
   "source": [
    "\"\"\"get intents\"\"\"\n",
    "r_get = requests.get(url=f'{BASE_URL}/projects/test_project/intents',\n",
    "                     cookies=cookies)\n",
    "print(r_get.json())\n",
    "r_get = requests.get(url=f'{BASE_URL}/projects/test_project/intents?mode=name',\n",
    "                     cookies=cookies)\n",
    "print(r_get.json())\n"
   ]
  },
  {
   "cell_type": "code",
   "execution_count": null,
   "metadata": {},
   "outputs": [],
   "source": [
    "\"\"\"get an intent\"\"\"\n",
    "r_get = requests.get(url=f'{BASE_URL}/projects/test_project/intents/intent_1',\n",
    "                     cookies=cookies)\n",
    "print(r_get.json())\n"
   ]
  },
  {
   "cell_type": "code",
   "execution_count": null,
   "metadata": {},
   "outputs": [],
   "source": [
    "\"\"\"update intent\"\"\"\n",
    "r_put = requests.put(url=f'{BASE_URL}/projects/test_project/intents/intent_1',\n",
    "                     cookies=cookies,\n",
    "                     json={\"content\": {'examples': [{'text': 'string_1'}], 'use_entities': ['entity_1', 'entity_2']}})\n",
    "print(r_put.json())\n"
   ]
  },
  {
   "cell_type": "code",
   "execution_count": null,
   "metadata": {},
   "outputs": [],
   "source": [
    "\"\"\"update & rename an intent\"\"\"\n",
    "r_put = requests.put(url=f'{BASE_URL}/projects/test_project/intents/intent_1',\n",
    "                     cookies=cookies,\n",
    "                     json={'new_name': 'intent_2', \"content\": {'examples': [{'text': 'string_1'}, {'text': 'string_2'}]}})\n",
    "print(r_put.json())\n"
   ]
  },
  {
   "cell_type": "code",
   "execution_count": null,
   "metadata": {},
   "outputs": [],
   "source": [
    "\"\"\"rename an intent\"\"\"\n",
    "r_put = requests.put(url=f'{BASE_URL}/projects/test_project/intents/intent_2',\n",
    "                     cookies=cookies,\n",
    "                     json={'new_name': 'intent_1'})\n",
    "print(r_put.json())\n"
   ]
  },
  {
   "cell_type": "code",
   "execution_count": null,
   "metadata": {},
   "outputs": [],
   "source": [
    "\"\"\"delete an intent\"\"\"\n",
    "r_delete = requests.delete(url=f'{BASE_URL}/projects/test_project/intents/intent_1',\n",
    "                           cookies=cookies)\n",
    "print(r_delete.json())\n"
   ]
  },
  {
   "cell_type": "markdown",
   "metadata": {},
   "source": [
    "# Action API"
   ]
  },
  {
   "cell_type": "code",
   "execution_count": null,
   "metadata": {},
   "outputs": [],
   "source": [
    "\"\"\"create an action\"\"\"\n",
    "r_post = requests.post(url=f'{BASE_URL}/projects/test_project/actions',\n",
    "                       cookies=cookies,\n",
    "                       json={'name': 'action_1'})\n",
    "print(r_post.json())\n"
   ]
  },
  {
   "cell_type": "code",
   "execution_count": null,
   "metadata": {},
   "outputs": [],
   "source": [
    "\"\"\"get actions\"\"\"\n",
    "r_get = requests.get(url=f'{BASE_URL}/projects/test_project/actions',\n",
    "                     cookies=cookies)\n",
    "print(r_get.json())\n",
    "r_get = requests.get(url=f'{BASE_URL}/projects/test_project/actions?mode=name',\n",
    "                     cookies=cookies)\n",
    "print(r_get.json())\n"
   ]
  },
  {
   "cell_type": "code",
   "execution_count": null,
   "metadata": {},
   "outputs": [],
   "source": [
    "\"\"\"get an action\"\"\"\n",
    "r_get = requests.get(url=f'{BASE_URL}/projects/test_project/actions/action_1',\n",
    "                     cookies=cookies)\n",
    "print(r_get.json())\n"
   ]
  },
  {
   "cell_type": "code",
   "execution_count": null,
   "metadata": {},
   "outputs": [],
   "source": [
    "\"\"\"update an action\"\"\"\n",
    "content = {\n",
    "    \"content\": {\n",
    "        \"blockly\": {},\n",
    "        \"packages\": [],\n",
    "        \"code\": \"\"\n",
    "    }\n",
    "}\n",
    "\n",
    "r_put = requests.put(url=f'{BASE_URL}/projects/test_project/actions/action_1',\n",
    "                     cookies=cookies,\n",
    "                     json=content)\n",
    "print(r_put.json())\n"
   ]
  },
  {
   "cell_type": "code",
   "execution_count": null,
   "metadata": {},
   "outputs": [],
   "source": [
    "\"\"\"update & rename an action\"\"\"\n",
    "content = {\n",
    "    'new_name': 'action_2',\n",
    "    \"content\": {\n",
    "        \"blockly\": {},\n",
    "        \"packages\": [],\n",
    "        \"code\": \"dispatcher.utter_message(text='Hello')\"\n",
    "    }\n",
    "}\n",
    "r_put = requests.put(url=f'{BASE_URL}/projects/test_project/actions/action_1',\n",
    "                     cookies=cookies,\n",
    "                     json=content)\n",
    "print(r_put.json())\n"
   ]
  },
  {
   "cell_type": "code",
   "execution_count": null,
   "metadata": {},
   "outputs": [],
   "source": [
    "\"\"\"rename an action\"\"\"\n",
    "r_put = requests.put(url=f'{BASE_URL}/projects/test_project/actions/action_2',\n",
    "                     cookies=cookies,\n",
    "                     json={'new_name': 'action_1'})\n",
    "print(r_put.json())\n"
   ]
  },
  {
   "cell_type": "code",
   "execution_count": null,
   "metadata": {},
   "outputs": [],
   "source": [
    "\"\"\"delete an action\"\"\"\n",
    "r_delete = requests.delete(url=f'{BASE_URL}/projects/test_project/actions/action_1',\n",
    "                           cookies=cookies)\n",
    "print(r_delete.json())\n"
   ]
  },
  {
   "cell_type": "markdown",
   "metadata": {},
   "source": [
    "# Entity API"
   ]
  },
  {
   "cell_type": "code",
   "execution_count": null,
   "metadata": {},
   "outputs": [],
   "source": [
    "\"\"\"create an entity\"\"\"\n",
    "r_post = requests.post(url=f'{BASE_URL}/projects/test_project/entities',\n",
    "                       cookies=cookies,\n",
    "                       json={'name': 'entity_1'})\n",
    "print(r_post.json())\n"
   ]
  },
  {
   "cell_type": "code",
   "execution_count": null,
   "metadata": {},
   "outputs": [],
   "source": [
    "\"\"\"get entities\"\"\"\n",
    "r_get = requests.get(url=f'{BASE_URL}/projects/test_project/entities',\n",
    "                     cookies=cookies)\n",
    "print(r_get.json())\n",
    "r_get = requests.get(url=f'{BASE_URL}/projects/test_project/entities?mode=name',\n",
    "                     cookies=cookies)\n",
    "print(r_get.json())\n"
   ]
  },
  {
   "cell_type": "code",
   "execution_count": null,
   "metadata": {},
   "outputs": [],
   "source": [
    "\"\"\"get an entity\"\"\"\n",
    "r_get = requests.get(url=f'{BASE_URL}/projects/test_project/entities/entity_1',\n",
    "                     cookies=cookies)\n",
    "print(r_get.json())\n"
   ]
  },
  {
   "cell_type": "code",
   "execution_count": null,
   "metadata": {},
   "outputs": [],
   "source": [
    "\"\"\"update an entity\"\"\"\n",
    "r_put = requests.put(url=f'{BASE_URL}/projects/test_project/entities/entity_1',\n",
    "                     cookies=cookies,\n",
    "                     json={\"content\": {'roles': ['role_1', 'role_2']}})\n",
    "print(r_put.json())\n"
   ]
  },
  {
   "cell_type": "code",
   "execution_count": null,
   "metadata": {},
   "outputs": [],
   "source": [
    "\"\"\"update & rename an entity\"\"\"\n",
    "r_put = requests.put(url=f'{BASE_URL}/projects/test_project/entities/entity_1',\n",
    "                     cookies=cookies,\n",
    "                     json={'new_name': 'entity_2', \"content\":{'groups': ['group_1', 'group_2']}})\n",
    "print(r_put.json())\n"
   ]
  },
  {
   "cell_type": "code",
   "execution_count": null,
   "metadata": {},
   "outputs": [],
   "source": [
    "\"\"\"rename an entity\"\"\"\n",
    "r_put = requests.put(url=f'{BASE_URL}/projects/test_project/entities/entity_2',\n",
    "                     cookies=cookies,\n",
    "                     json={'new_name': 'entity_1'})\n",
    "print(r_put.json())\n"
   ]
  },
  {
   "cell_type": "code",
   "execution_count": null,
   "metadata": {},
   "outputs": [],
   "source": [
    "\"\"\"delete an intent\"\"\"\n",
    "r_delete = requests.delete(url=f'{BASE_URL}/projects/test_project/entities/entity_1',\n",
    "                           cookies=cookies)\n",
    "print(r_delete.json())\n"
   ]
  },
  {
   "cell_type": "markdown",
   "metadata": {},
   "source": [
    "# Slot API"
   ]
  },
  {
   "cell_type": "code",
   "execution_count": null,
   "metadata": {},
   "outputs": [],
   "source": [
    "\"\"\"create a slot\"\"\"\n",
    "content = {'name': 'slot_1'}\n",
    "r_post = requests.post(url=f'{BASE_URL}/projects/test_project/slots',\n",
    "                       cookies=cookies,\n",
    "                       json=content)\n",
    "print(r_post.json())\n"
   ]
  },
  {
   "cell_type": "code",
   "execution_count": null,
   "metadata": {},
   "outputs": [],
   "source": [
    "\"\"\"get slot\"\"\"\n",
    "r_get = requests.get(url=f'{BASE_URL}/projects/test_project/slots',\n",
    "                     cookies=cookies)\n",
    "print(r_get.json())\n",
    "r_get = requests.get(url=f'{BASE_URL}/projects/test_project/slots?mode=name',\n",
    "                     cookies=cookies)\n",
    "print(r_get.json())\n"
   ]
  },
  {
   "cell_type": "code",
   "execution_count": null,
   "metadata": {},
   "outputs": [],
   "source": [
    "\"\"\"get a slot\"\"\"\n",
    "r_get = requests.get(url=f'{BASE_URL}/projects/test_project/slots/slot_1',\n",
    "                     cookies=cookies)\n",
    "print(r_get.json())\n"
   ]
  },
  {
   "cell_type": "code",
   "execution_count": null,
   "metadata": {},
   "outputs": [],
   "source": [
    "\"\"\"update a slot\"\"\"\n",
    "content = {\n",
    "    \"content\": {\n",
    "        'type': 'text',\n",
    "        'mappings': [\n",
    "            {'type': 'custom'}\n",
    "        ]\n",
    "    }\n",
    "}\n",
    "\n",
    "r_put = requests.put(url=f'{BASE_URL}/projects/test_project/slots/slot_1',\n",
    "                     cookies=cookies,\n",
    "                     json=content)\n",
    "print(r_put.json())\n"
   ]
  },
  {
   "cell_type": "code",
   "execution_count": null,
   "metadata": {},
   "outputs": [],
   "source": [
    "\"\"\"update & rename a slot\"\"\"\n",
    "content = {\n",
    "    'new_name': 'slot_2',\n",
    "    \"content\": {\n",
    "        'type': 'any',\n",
    "        'mappings': [\n",
    "            {'type': 'custom'}\n",
    "        ]\n",
    "    }\n",
    "}\n",
    "r_put = requests.put(url=f'{BASE_URL}/projects/test_project/slots/slot_1',\n",
    "                     cookies=cookies,\n",
    "                     json=content)\n",
    "print(r_put.json())\n"
   ]
  },
  {
   "cell_type": "code",
   "execution_count": null,
   "metadata": {},
   "outputs": [],
   "source": [
    "\"\"\"rename a slot\"\"\"\n",
    "r_put = requests.put(url=f'{BASE_URL}/projects/test_project/slots/slot_2',\n",
    "                     cookies=cookies,\n",
    "                     json={'new_name': 'slot_1'})\n",
    "print(r_put.json())\n"
   ]
  },
  {
   "cell_type": "code",
   "execution_count": null,
   "metadata": {},
   "outputs": [],
   "source": [
    "\"\"\"delete a slot\"\"\"\n",
    "r_delete = requests.delete(url=f'{BASE_URL}/projects/test_project/slots/slot_1',\n",
    "                           cookies=cookies)\n",
    "print(r_delete.json())\n"
   ]
  },
  {
   "cell_type": "markdown",
   "metadata": {},
   "source": [
    "# Story API"
   ]
  },
  {
   "cell_type": "code",
   "execution_count": null,
   "metadata": {},
   "outputs": [],
   "source": [
    "\"\"\"create a story\"\"\"\n",
    "r_post = requests.post(url=f'{BASE_URL}/projects/test_project/stories',\n",
    "                       cookies=cookies,\n",
    "                       json={'name': 'story_1'})\n",
    "print(r_post.json())\n"
   ]
  },
  {
   "cell_type": "code",
   "execution_count": null,
   "metadata": {},
   "outputs": [],
   "source": [
    "\"\"\"get story\"\"\"\n",
    "r_get = requests.get(url=f'{BASE_URL}/projects/test_project/stories',\n",
    "                     cookies=cookies)\n",
    "print(r_get.json())\n",
    "r_get = requests.get(url=f'{BASE_URL}/projects/test_project/stories?mode=name',\n",
    "                     cookies=cookies)\n",
    "print(r_get.json())\n"
   ]
  },
  {
   "cell_type": "code",
   "execution_count": null,
   "metadata": {},
   "outputs": [],
   "source": [
    "\"\"\"get a stroy\"\"\"\n",
    "r_get = requests.get(url=f'{BASE_URL}/projects/test_project/stories/story_1',\n",
    "                     cookies=cookies)\n",
    "print(r_get.json())\n"
   ]
  },
  {
   "cell_type": "code",
   "execution_count": null,
   "metadata": {},
   "outputs": [],
   "source": [
    "\"\"\"update a story\"\"\"\n",
    "content = {\n",
    "    \"content\": {\n",
    "        \"nodes\": [\n",
    "            {\n",
    "                \"type\": \"default\",\n",
    "                \"dimensions\": {\n",
    "                    \"width\": 150,\n",
    "                    \"height\": 36\n",
    "                },\n",
    "                \"handleBounds\": {\n",
    "                    \"source\": [\n",
    "                        {\n",
    "                            \"id\": \"1__handle-bottom\",\n",
    "                            \"position\": \"bottom\",\n",
    "                            \"x\": 71,\n",
    "                            \"y\": 31,\n",
    "                            \"width\": 8,\n",
    "                            \"height\": 8\n",
    "                        }\n",
    "                    ],\n",
    "                    \"target\": [\n",
    "                        {\n",
    "                            \"id\": \"1__handle-top\",\n",
    "                            \"position\": \"top\",\n",
    "                            \"x\": 71,\n",
    "                            \"y\": -3,\n",
    "                            \"width\": 8,\n",
    "                            \"height\": 8\n",
    "                        }\n",
    "                    ]\n",
    "                },\n",
    "                \"computedPosition\": {\n",
    "                    \"x\": 100,\n",
    "                    \"y\": 100,\n",
    "                    \"z\": 0\n",
    "                },\n",
    "                \"id\": \"1\",\n",
    "                \"label\": \"Node 1\",\n",
    "                \"position\": {\n",
    "                    \"x\": 100,\n",
    "                    \"y\": 100\n",
    "                }\n",
    "            }\n",
    "        ],\n",
    "        \"edges\": [],\n",
    "        \"position\": [\n",
    "            0,\n",
    "            0\n",
    "        ],\n",
    "        \"zoom\": 1\n",
    "    }\n",
    "}\n",
    "\n",
    "r_put = requests.put(url=f'{BASE_URL}/projects/test_project/stories/story_1',\n",
    "                     cookies=cookies,\n",
    "                     json=content)\n",
    "print(r_put.json())\n"
   ]
  },
  {
   "cell_type": "code",
   "execution_count": null,
   "metadata": {},
   "outputs": [],
   "source": [
    "\"\"\"update & rename a story\"\"\"\n",
    "content = {\n",
    "    'new_name': 'story_2',\n",
    "    \"content\": {\n",
    "        \"nodes\": [\n",
    "            {\n",
    "                \"type\": \"default\",\n",
    "                \"dimensions\": {\n",
    "                    \"width\": 150,\n",
    "                    \"height\": 36\n",
    "                },\n",
    "                \"handleBounds\": {\n",
    "                    \"source\": [\n",
    "                        {\n",
    "                            \"id\": \"1__handle-bottom\",\n",
    "                            \"position\": \"bottom\",\n",
    "                            \"x\": 71,\n",
    "                            \"y\": 31,\n",
    "                            \"width\": 8,\n",
    "                            \"height\": 8\n",
    "                        }\n",
    "                    ],\n",
    "                    \"target\": [\n",
    "                        {\n",
    "                            \"id\": \"1__handle-top\",\n",
    "                            \"position\": \"top\",\n",
    "                            \"x\": 71,\n",
    "                            \"y\": -3,\n",
    "                            \"width\": 8,\n",
    "                            \"height\": 8\n",
    "                        }\n",
    "                    ]\n",
    "                },\n",
    "                \"computedPosition\": {\n",
    "                    \"x\": 133,\n",
    "                    \"y\": 119,\n",
    "                    \"z\": 0\n",
    "                },\n",
    "                \"id\": \"1\",\n",
    "                \"label\": \"Node 1\",\n",
    "                \"position\": {\n",
    "                    \"x\": 133,\n",
    "                    \"y\": 119\n",
    "                },\n",
    "                \"selected\": False\n",
    "            },\n",
    "            {\n",
    "                \"type\": \"default\",\n",
    "                \"dimensions\": {\n",
    "                    \"width\": 150,\n",
    "                    \"height\": 36\n",
    "                },\n",
    "                \"handleBounds\": {\n",
    "                    \"source\": [\n",
    "                        {\n",
    "                            \"id\": \"random_node-2__handle-bottom\",\n",
    "                            \"position\": \"bottom\",\n",
    "                            \"x\": 71.00000273177193,\n",
    "                            \"y\": 31.000001345439145,\n",
    "                            \"width\": 8,\n",
    "                            \"height\": 8\n",
    "                        }\n",
    "                    ],\n",
    "                    \"target\": [\n",
    "                        {\n",
    "                            \"id\": \"random_node-2__handle-top\",\n",
    "                            \"position\": \"top\",\n",
    "                            \"x\": 71.00000273177193,\n",
    "                            \"y\": -2.9999963998813097,\n",
    "                            \"width\": 8,\n",
    "                            \"height\": 8\n",
    "                        }\n",
    "                    ]\n",
    "                },\n",
    "                \"computedPosition\": {\n",
    "                    \"x\": 133.71891912823548,\n",
    "                    \"y\": 177.44093732781238,\n",
    "                    \"z\": 1000\n",
    "                },\n",
    "                \"id\": \"random_node-2\",\n",
    "                \"label\": \"Node 2\",\n",
    "                \"position\": {\n",
    "                    \"x\": 133.71891912823548,\n",
    "                    \"y\": 177.44093732781238\n",
    "                },\n",
    "                \"selected\": True\n",
    "            }\n",
    "        ],\n",
    "        \"edges\": [],\n",
    "        \"position\": [\n",
    "            -126.92906289092366,\n",
    "            -87.27995323994386\n",
    "        ],\n",
    "        \"zoom\": 1.319507910772895\n",
    "    }\n",
    "}\n",
    "r_put = requests.put(url=f'{BASE_URL}/projects/test_project/stories/story_1',\n",
    "                     cookies=cookies,\n",
    "                     json=content)\n",
    "print(r_put.json())\n"
   ]
  },
  {
   "cell_type": "code",
   "execution_count": null,
   "metadata": {},
   "outputs": [],
   "source": [
    "\"\"\"rename a story\"\"\"\n",
    "r_put = requests.put(url=f'{BASE_URL}/projects/test_project/stories/story_2',\n",
    "                     cookies=cookies,\n",
    "                     json={'new_name': 'story_1'})\n",
    "print(r_put.json())\n"
   ]
  },
  {
   "cell_type": "code",
   "execution_count": null,
   "metadata": {},
   "outputs": [],
   "source": [
    "\"\"\"delete a story\"\"\"\n",
    "r_delete = requests.delete(url=f'{BASE_URL}/projects/test_project/stories/story_1',\n",
    "                           cookies=cookies)\n",
    "print(r_delete.json())\n"
   ]
  },
  {
   "cell_type": "markdown",
   "metadata": {},
   "source": [
    "# Rule API"
   ]
  },
  {
   "cell_type": "code",
   "execution_count": null,
   "metadata": {},
   "outputs": [],
   "source": [
    "\"\"\"create a rule\"\"\"\n",
    "r_post = requests.post(url=f'{BASE_URL}/projects/test_project/rules',\n",
    "                       cookies=cookies,\n",
    "                       json={'name': 'rule_1'})\n",
    "print(r_post.json())\n"
   ]
  },
  {
   "cell_type": "code",
   "execution_count": null,
   "metadata": {},
   "outputs": [],
   "source": [
    "\"\"\"get rule names\"\"\"\n",
    "r_get = requests.get(url=f'{BASE_URL}/projects/test_project/rules',\n",
    "                     cookies=cookies)\n",
    "print(r_get.json())\n",
    "r_get = requests.get(url=f'{BASE_URL}/projects/test_project/rules?mode=name',\n",
    "                     cookies=cookies)\n",
    "print(r_get.json())\n",
    "\n"
   ]
  },
  {
   "cell_type": "code",
   "execution_count": null,
   "metadata": {},
   "outputs": [],
   "source": [
    "\"\"\"get a rule\"\"\"\n",
    "r_get = requests.get(url=f'{BASE_URL}/projects/test_project/rules/rule_1',\n",
    "                     cookies=cookies)\n",
    "print(r_get.json())\n"
   ]
  },
  {
   "cell_type": "code",
   "execution_count": null,
   "metadata": {},
   "outputs": [],
   "source": [
    "\"\"\"update a rule\"\"\"\n",
    "content = {\n",
    "    \"content\": {\n",
    "        \"nodes\": [\n",
    "          {\n",
    "              \"type\": \"default\",\n",
    "              \"dimensions\": {\n",
    "                  \"width\": 150,\n",
    "                  \"height\": 36\n",
    "              },\n",
    "              \"handleBounds\": {\n",
    "                  \"source\": [\n",
    "                      {\n",
    "                          \"id\": \"1__handle-bottom\",\n",
    "                          \"position\": \"bottom\",\n",
    "                          \"x\": 71,\n",
    "                          \"y\": 31,\n",
    "                          \"width\": 8,\n",
    "                          \"height\": 8\n",
    "                      }\n",
    "                  ],\n",
    "                  \"target\": [\n",
    "                      {\n",
    "                          \"id\": \"1__handle-top\",\n",
    "                          \"position\": \"top\",\n",
    "                          \"x\": 71,\n",
    "                          \"y\": -3,\n",
    "                          \"width\": 8,\n",
    "                          \"height\": 8\n",
    "                      }\n",
    "                  ]\n",
    "              },\n",
    "              \"computedPosition\": {\n",
    "                  \"x\": 100,\n",
    "                  \"y\": 100,\n",
    "                  \"z\": 0\n",
    "              },\n",
    "              \"id\": \"1\",\n",
    "              \"label\": \"Node 1\",\n",
    "              \"position\": {\n",
    "                  \"x\": 100,\n",
    "                  \"y\": 100\n",
    "              }\n",
    "          }\n",
    "        ],\n",
    "        \"edges\": [],\n",
    "        \"position\": [\n",
    "            0,\n",
    "            0\n",
    "        ],\n",
    "        \"zoom\": 1\n",
    "    }\n",
    "}\n",
    "\n",
    "r_put = requests.put(\n",
    "    f'{BASE_URL}/projects/test_project/rules/rule_1', cookies=cookies, json=content)\n",
    "print(r_put.json())\n"
   ]
  },
  {
   "cell_type": "code",
   "execution_count": null,
   "metadata": {},
   "outputs": [],
   "source": [
    "\"\"\"update & rename a rule\"\"\"\n",
    "content = {\n",
    "    'new_name': 'rule_2',\n",
    "    \"content\": {\n",
    "        \"nodes\": [\n",
    "            {\n",
    "                \"type\": \"default\",\n",
    "                \"dimensions\": {\n",
    "                    \"width\": 150,\n",
    "                    \"height\": 36\n",
    "                },\n",
    "                \"handleBounds\": {\n",
    "                    \"source\": [\n",
    "                        {\n",
    "                            \"id\": \"1__handle-bottom\",\n",
    "                            \"position\": \"bottom\",\n",
    "                            \"x\": 71,\n",
    "                            \"y\": 31,\n",
    "                            \"width\": 8,\n",
    "                            \"height\": 8\n",
    "                        }\n",
    "                    ],\n",
    "                    \"target\": [\n",
    "                        {\n",
    "                            \"id\": \"1__handle-top\",\n",
    "                            \"position\": \"top\",\n",
    "                            \"x\": 71,\n",
    "                            \"y\": -3,\n",
    "                            \"width\": 8,\n",
    "                            \"height\": 8\n",
    "                        }\n",
    "                    ]\n",
    "                },\n",
    "                \"computedPosition\": {\n",
    "                    \"x\": 133,\n",
    "                    \"y\": 119,\n",
    "                    \"z\": 0\n",
    "                },\n",
    "                \"id\": \"1\",\n",
    "                \"label\": \"Node 1\",\n",
    "                \"position\": {\n",
    "                    \"x\": 133,\n",
    "                    \"y\": 119\n",
    "                },\n",
    "                \"selected\": False\n",
    "            }\n",
    "        ],\n",
    "        \"edges\": [],\n",
    "        \"position\": [\n",
    "            -126.92906289092366,\n",
    "            -87.27995323994386\n",
    "        ],\n",
    "        \"zoom\": 1.319507910772895\n",
    "    }\n",
    "}\n",
    "r_put = requests.put(url=f'{BASE_URL}/projects/test_project/rules/rule_1',\n",
    "                     cookies=cookies,\n",
    "                     json=content)\n",
    "print(r_put.json())\n"
   ]
  },
  {
   "cell_type": "code",
   "execution_count": null,
   "metadata": {},
   "outputs": [],
   "source": [
    "\"\"\"rename a rule\"\"\"\n",
    "r_put = requests.put(url=f'{BASE_URL}/projects/test_project/rules/rule_2',\n",
    "                     cookies=cookies,\n",
    "                     json={'new_name': 'rule_1'})\n",
    "print(r_put.json())\n"
   ]
  },
  {
   "cell_type": "code",
   "execution_count": null,
   "metadata": {},
   "outputs": [],
   "source": [
    "\"\"\"delete a rule\"\"\"\n",
    "r_delete = requests.delete(url=f'{BASE_URL}/projects/test_project/rules/rule_1',\n",
    "                           cookies=cookies)\n",
    "print(r_delete.json())\n"
   ]
  },
  {
   "cell_type": "markdown",
   "metadata": {},
   "source": [
    "# Tokenizer API"
   ]
  },
  {
   "cell_type": "code",
   "execution_count": null,
   "metadata": {},
   "outputs": [],
   "source": [
    "\"\"\"tokenize\"\"\"\n",
    "r_post = requests.post(url=f'{BASE_URL}/projects/test_project/tokenizer',\n",
    "                       cookies=cookies,\n",
    "                       json={'sentence': '台積電在美國《財富》雜誌評選「全球最大500家公司」排行榜中，依營收規模名列全球第251名。'})\n",
    "print(r_post.json())\n"
   ]
  },
  {
   "cell_type": "markdown",
   "metadata": {},
   "source": [
    "# Token API"
   ]
  },
  {
   "cell_type": "code",
   "execution_count": null,
   "metadata": {},
   "outputs": [],
   "source": [
    "\"\"\"create a token\"\"\"\n",
    "r_post = requests.post(url=f'{BASE_URL}/projects/test_project/tokens',\n",
    "                       cookies=cookies,\n",
    "                       json={'name': '測試', \"content\": {'frequency': 1}})\n",
    "print(r_post.json())\n"
   ]
  },
  {
   "cell_type": "code",
   "execution_count": null,
   "metadata": {},
   "outputs": [],
   "source": [
    "\"\"\"get token names\"\"\"\n",
    "r_get = requests.get(url=f'{BASE_URL}/projects/test_project/tokens',\n",
    "                     cookies=cookies)\n",
    "print(r_get.json())\n",
    "r_get = requests.get(url=f'{BASE_URL}/projects/test_project/tokens?mode=name',\n",
    "                     cookies=cookies)\n",
    "print(r_get.json())\n"
   ]
  },
  {
   "cell_type": "code",
   "execution_count": null,
   "metadata": {},
   "outputs": [],
   "source": [
    "\"\"\"get a token\"\"\"\n",
    "r_get = requests.get(url=f'{BASE_URL}/projects/test_project/tokens/測試', \n",
    "                     cookies=cookies)\n",
    "print(r_get.json())"
   ]
  },
  {
   "cell_type": "code",
   "execution_count": null,
   "metadata": {},
   "outputs": [],
   "source": [
    "\"\"\"update a token\"\"\"\n",
    "\n",
    "r_put = requests.put(url=f'{BASE_URL}/projects/test_project/tokens/測試',\n",
    "                     cookies=cookies,\n",
    "                     json={\"content\": {'frequency': 2}})\n",
    "print(r_put.json())\n"
   ]
  },
  {
   "cell_type": "code",
   "execution_count": null,
   "metadata": {},
   "outputs": [],
   "source": [
    "\"\"\"update & rename a token\"\"\"\n",
    "\n",
    "r_put = requests.put(url=f'{BASE_URL}/projects/test_project/tokens/測試',\n",
    "                     cookies=cookies,\n",
    "                     json={'new_name': '範例', \"content\": {'frequency': 3}})\n",
    "print(r_put.json())\n"
   ]
  },
  {
   "cell_type": "code",
   "execution_count": null,
   "metadata": {},
   "outputs": [],
   "source": [
    "\"\"\"rename a token\"\"\"\n",
    "r_put = requests.put(url=f'{BASE_URL}/projects/test_project/tokens/範例',\n",
    "                     cookies=cookies,\n",
    "                     json={'new_name': '測試'})\n",
    "print(r_put.json())\n"
   ]
  },
  {
   "cell_type": "code",
   "execution_count": null,
   "metadata": {},
   "outputs": [],
   "source": [
    "\"\"\"delete an action\"\"\"\n",
    "r_delete = requests.delete(url=f'{BASE_URL}/projects/test_project/tokens/測試',\n",
    "                           cookies=cookies)\n",
    "print(r_delete.json())\n"
   ]
  },
  {
   "cell_type": "markdown",
   "metadata": {},
   "source": [
    "# Model API"
   ]
  },
  {
   "cell_type": "code",
   "execution_count": null,
   "metadata": {},
   "outputs": [],
   "source": [
    "\"\"\"Train a model\"\"\"\n",
    "r_get = requests.get(url=f'{BASE_URL}/projects/test_project/models',\n",
    "                     cookies=cookies)\n",
    "print(r_get.text)"
   ]
  },
  {
   "cell_type": "code",
   "execution_count": null,
   "metadata": {},
   "outputs": [],
   "source": [
    "# response = requests.get(url=f'http://localhost:5005/status')"
   ]
  },
  {
   "cell_type": "code",
   "execution_count": null,
   "metadata": {},
   "outputs": [],
   "source": [
    "# response = requests.delete(url=f'http://localhost:5005/model')"
   ]
  },
  {
   "cell_type": "code",
   "execution_count": null,
   "metadata": {},
   "outputs": [],
   "source": [
    "\"\"\"Load a model\"\"\"\n",
    "r_put = requests.put(url=f'{BASE_URL}/projects/test_project/models',\n",
    "                       cookies=cookies,\n",
    "                       json={},\n",
    "                       timeout=None)\n",
    "print(r_put.json())"
   ]
  },
  {
   "cell_type": "markdown",
   "metadata": {},
   "source": [
    "### Finish test. Delete the project."
   ]
  },
  {
   "cell_type": "code",
   "execution_count": null,
   "metadata": {},
   "outputs": [],
   "source": [
    "r_delete = requests.delete(url=f'{BASE_URL}/projects/test_project',\n",
    "                           cookies=cookies)\n",
    "print(r_delete.json())\n"
   ]
  },
  {
   "cell_type": "code",
   "execution_count": null,
   "metadata": {},
   "outputs": [],
   "source": [
    "assert False, \"breakpoint\""
   ]
  },
  {
   "cell_type": "markdown",
   "metadata": {},
   "source": [
    "# temp"
   ]
  },
  {
   "cell_type": "code",
   "execution_count": null,
   "metadata": {},
   "outputs": [],
   "source": [
    "# import json\n",
    "\n",
    "# url = 'http://localhost:5005/webhooks/rest/webhook'\n",
    "# data = {'sender': 'test_user', 'message' : 'Hi!'}\n",
    "\n",
    "# if __name__ == \"__main__\":\n",
    "#     response = requests.post(url, data = json.dumps(data))\n",
    "#     print(response.text)"
   ]
  },
  {
   "cell_type": "code",
   "execution_count": null,
   "metadata": {},
   "outputs": [],
   "source": [
    "intents = {\n",
    "    \"tsmc\": {\n",
    "        \"examples\": [\n",
    "            {\n",
    "                \"text\": \"台積電在美國《財富》雜誌評選「全球最大500家公司」排行榜中，依營收規模名列全球第251名\",\n",
    "                \"labels\": [\n",
    "                    {\n",
    "                        \"token\": \"美國\",\n",
    "                        \"start\": 4,\n",
    "                        \"end\": 6,\n",
    "                        \"entity\": \"country\"\n",
    "                    },\n",
    "                    {\n",
    "                        \"token\": \"台積電\",\n",
    "                        \"start\": 0,\n",
    "                        \"end\": 3,\n",
    "                        \"entity\": \"company\"\n",
    "                    },\n",
    "                    {\n",
    "                        \"token\": \"251\",\n",
    "                        \"start\": 41,\n",
    "                        \"end\": 44,\n",
    "                        \"entity\": \"rank\"\n",
    "                    }\n",
    "                ]\n",
    "            },\n",
    "            {\n",
    "                \"text\": \"台積電在美國《財富》雜誌評選「全球最大500家公司」排行榜中，依營收規模名列全球第251名\",\n",
    "                \"labels\": [\n",
    "                    {\n",
    "                        \"token\": \"美國\",\n",
    "                        \"start\": 4,\n",
    "                        \"end\": 6,\n",
    "                        \"entity\": \"country\"\n",
    "                    },\n",
    "                    {\n",
    "                        \"token\": \"台積電\",\n",
    "                        \"start\": 0,\n",
    "                        \"end\": 3,\n",
    "                        \"entity\": \"company\"\n",
    "                    },\n",
    "                    {\n",
    "                        \"token\": \"251\",\n",
    "                        \"start\": 41,\n",
    "                        \"end\": 44,\n",
    "                        \"entity\": \"rank\"\n",
    "                    }\n",
    "                ]\n",
    "            }\n",
    "        ]\n",
    "    },\n",
    "    \"tsmc2\": {\n",
    "        \"examples\": [\n",
    "            {\n",
    "                \"text\": \"台積電在美國《財富》雜誌評選「全球最大500家公司」排行榜中，依營收規模名列全球第251名\",\n",
    "                \"labels\": [\n",
    "                    {\n",
    "                        \"token\": \"美國\",\n",
    "                        \"start\": 4,\n",
    "                        \"end\": 6,\n",
    "                        \"entity\": \"country\"\n",
    "                    },\n",
    "                    {\n",
    "                        \"token\": \"台積電\",\n",
    "                        \"start\": 0,\n",
    "                        \"end\": 3,\n",
    "                        \"entity\": \"company\"\n",
    "                    },\n",
    "                    {\n",
    "                        \"token\": \"251\",\n",
    "                        \"start\": 41,\n",
    "                        \"end\": 44,\n",
    "                        \"entity\": \"rank\"\n",
    "                    }\n",
    "                ]\n",
    "            }\n",
    "        ],\n",
    "        'use_entities': ['entity_1', 'entity_2']\n",
    "    }\n",
    "}\n",
    "\n",
    "entities = {\n",
    "    \"test\": {\n",
    "        \"roles\": [\n",
    "            \"role_1\",\n",
    "            \"role_2\"\n",
    "        ]\n",
    "    },\n",
    "    \"company\": {\n",
    "        \"roles\": [\n",
    "            \"role_1\",\n",
    "            \"role_2\"\n",
    "        ],\n",
    "        \"groups\": [\n",
    "            \"group_1\",\n",
    "            \"group_2\"\n",
    "        ]},\n",
    "    \"rank\": {\n",
    "        \"groups\": [\n",
    "            \"group_1\",\n",
    "            \"group_2\"\n",
    "        ]\n",
    "    },\n",
    "    \"country\": {}\n",
    "}\n"
   ]
  },
  {
   "cell_type": "code",
   "execution_count": null,
   "metadata": {},
   "outputs": [],
   "source": [
    "import sys\n",
    "from ruamel.yaml import YAML\n",
    "import pprint\n",
    "from ruamel.yaml.scalarstring import LiteralScalarString\n",
    "\n",
    "nlu = {'nlu': []}\n",
    "domain = {'intents': [], 'entities': []}\n",
    "yaml=YAML()\n",
    "\n",
    "# compile intents\n",
    "for intent_name, intent in intents.items():\n",
    "    # nlu\n",
    "    examples_arr = []\n",
    "    for example in intent['examples']:\n",
    "        text = ''\n",
    "        previous_end = 0\n",
    "        sorted_labels = sorted(example['labels'], key=lambda d: d['start'])\n",
    "        for label in sorted_labels:\n",
    "            token = label.get('token')\n",
    "            entity = label.get('entity')\n",
    "            role = label.get('role')\n",
    "            group = label.get('group')\n",
    "            text += example['text'][previous_end:label['start']]\n",
    "            text += f'[{token}]{{\"entity\": \"{entity}\"'\n",
    "            text += f', \"role\": \"{role}\"' if role else ''\n",
    "            text += f', \"group\": \"{group}\"' if group else ''\n",
    "            text += f'}}'\n",
    "            previous_end = label['end']\n",
    "        text += example['text'][previous_end:]\n",
    "        text += '\\n'\n",
    "        examples_arr.append({'text': LiteralScalarString(text)})\n",
    "    nlu['nlu'].append({'intent': intent_name, 'examples': examples_arr})\n",
    "\n",
    "    # domain\n",
    "    intent.pop('examples')\n",
    "    if intent:\n",
    "        domain['intents'].append({intent_name: intent})\n",
    "    else:\n",
    "        domain['intents'].append(intent_name)\n",
    "\n",
    "# compile entities\n",
    "for entity_name, entity in entities.items():\n",
    "    if entity:\n",
    "        domain['entities'].append({entity_name: entity})\n",
    "    else:\n",
    "        domain['entities'].append(entity_name)\n",
    "\n",
    "pprint.pprint(nlu, sort_dicts=False)\n",
    "print('------------------------------------------------------------------------------------------------------------')\n",
    "yaml.dump(nlu, sys.stdout)\n",
    "print('------------------------------------------------------------------------------------------------------------')\n",
    "pprint.pprint(domain, sort_dicts=False)\n",
    "print('------------------------------------------------------------------------------------------------------------')\n",
    "yaml.dump(domain, sys.stdout)\n"
   ]
  },
  {
   "cell_type": "code",
   "execution_count": null,
   "metadata": {},
   "outputs": [],
   "source": [
    "import docker\n",
    "client = docker.from_env()"
   ]
  },
  {
   "cell_type": "code",
   "execution_count": null,
   "metadata": {},
   "outputs": [],
   "source": [
    "client.containers.get('asar-app-1')"
   ]
  }
 ],
 "metadata": {
  "kernelspec": {
   "display_name": "Python 3.10.7 64-bit ('venv')",
   "language": "python",
   "name": "python3"
  },
  "language_info": {
   "codemirror_mode": {
    "name": "ipython",
    "version": 3
   },
   "file_extension": ".py",
   "mimetype": "text/x-python",
   "name": "python",
   "nbconvert_exporter": "python",
   "pygments_lexer": "ipython3",
   "version": "3.10.7"
  },
  "orig_nbformat": 4,
  "vscode": {
   "interpreter": {
    "hash": "d5a93f04303b4b3c5a779331b74705a9d4021afccf2f818a1bfe8f9513487345"
   }
  }
 },
 "nbformat": 4,
 "nbformat_minor": 2
}
