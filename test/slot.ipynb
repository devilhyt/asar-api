{
 "cells": [
  {
   "cell_type": "code",
   "execution_count": null,
   "metadata": {},
   "outputs": [],
   "source": [
    "import json\n",
    "\n",
    "with open('/home/pi/git/asar/api/data/asar_projects/device_test/slots.json', 'r', encoding=\"utf-8\") as f:\n",
    "    f_json = json.load(f)"
   ]
  },
  {
   "cell_type": "code",
   "execution_count": null,
   "metadata": {},
   "outputs": [],
   "source": [
    "for slot_name, slot_content in f_json.items():\n",
    "    if mappings:=slot_content.get('mappings'):\n",
    "        for m in mappings:\n",
    "            if conditions:=m.get('conditions'):\n",
    "                for c in conditions:\n",
    "                    if active_loop:=c.get('active_loop'):\n",
    "                        c.update({'active_loop':f'{active_loop}_form'})\n",
    "print(f_json)\n",
    "                "
   ]
  }
 ],
 "metadata": {
  "kernelspec": {
   "display_name": "Python 3.10.7 64-bit ('venv')",
   "language": "python",
   "name": "python3"
  },
  "language_info": {
   "codemirror_mode": {
    "name": "ipython",
    "version": 3
   },
   "file_extension": ".py",
   "mimetype": "text/x-python",
   "name": "python",
   "nbconvert_exporter": "python",
   "pygments_lexer": "ipython3",
   "version": "3.10.7"
  },
  "orig_nbformat": 4,
  "vscode": {
   "interpreter": {
    "hash": "d5a93f04303b4b3c5a779331b74705a9d4021afccf2f818a1bfe8f9513487345"
   }
  }
 },
 "nbformat": 4,
 "nbformat_minor": 2
}
