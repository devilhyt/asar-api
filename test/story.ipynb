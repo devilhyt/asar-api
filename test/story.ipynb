{
 "cells": [
  {
   "cell_type": "code",
   "execution_count": null,
   "metadata": {},
   "outputs": [],
   "source": [
    "import json\n",
    "\n",
    "with open('/home/pi/git/asar/api/data/asar_projects/rasa_bot/stories.json', 'r', encoding=\"utf-8\") as f:\n",
    "    f_json = json.load(f)\n",
    "    \n",
    "# f_json={'心情問答2':f_json['心情問答']}"
   ]
  },
  {
   "cell_type": "code",
   "execution_count": null,
   "metadata": {},
   "outputs": [],
   "source": [
    "def decode_story_nodes(input_story: dict) -> dict:\n",
    "    \"\"\"get nodes info\"\"\"\n",
    "    ret = dict()\n",
    "    # search nodes id\n",
    "    n: dict\n",
    "    for n in input_story['nodes']:\n",
    "        ret[n['id']] = n.get('data', {})\n",
    "        ret[n['id']]['targets'] = set()\n",
    "    # search targets of node\n",
    "    for e in input_story['edges']:\n",
    "        ret[e['source']]['targets'].add(e['target'])\n",
    "\n",
    "    return ret\n"
   ]
  },
  {
   "cell_type": "code",
   "execution_count": null,
   "metadata": {},
   "outputs": [],
   "source": [
    "def decode_story_paths(tree: dict, current_node: str = 'start', visited: list = None, path: list = None) -> list:\n",
    "    \"\"\"search all paths(dfs)\"\"\"\n",
    "    if visited is None:\n",
    "        visited = []\n",
    "    if path is None:\n",
    "        path = []\n",
    "\n",
    "    visited.append(current_node)\n",
    "    if (not tree[current_node]['targets']) and current_node == 'end':\n",
    "        path.append(visited)\n",
    "    else:\n",
    "        for n in tree[current_node]['targets']:\n",
    "            path = decode_story_paths(tree, n, visited.copy(), path.copy())\n",
    "    return path\n"
   ]
  },
  {
   "cell_type": "code",
   "execution_count": null,
   "metadata": {},
   "outputs": [],
   "source": [
    "def decode_story(story_name: str, input_nodes: dict, input_paths: list) -> list:\n",
    "    ret = []\n",
    "    for subpath_cnt, path in enumerate(input_paths):\n",
    "        steps = []\n",
    "        for node in path:\n",
    "            step = None\n",
    "            if node != 'start' and node != 'end':\n",
    "                step_type = input_nodes[node]['type']\n",
    "                if step_type == 'intent':\n",
    "                    step = {step_type: input_nodes[node]['name']}\n",
    "\n",
    "                    # entity\n",
    "                    if input_nodes[node].get('entities'):\n",
    "                        entities = []\n",
    "                        e: dict\n",
    "                        for e in input_nodes[node]['entities']:\n",
    "                            if k := e.get('entity'):\n",
    "                                entity = {k: e.get('value')}\n",
    "                                if r := e.get('role'):\n",
    "                                    entity['role'] = r\n",
    "                                if g := e.get('group'):\n",
    "                                    entity['group'] = g\n",
    "                                entities.append(entity)\n",
    "                        if entities:\n",
    "                            step.update({'entities': entities})\n",
    "                elif step_type == 'action':\n",
    "                    step = {step_type: input_nodes[node]['name']}\n",
    "                elif step_type == 'response':\n",
    "                    step = {'action': f'utter_{input_nodes[node][\"name\"]}'}\n",
    "                elif step_type == 'slot_was_set':\n",
    "                    ss: list\n",
    "                    if ss := input_nodes[node].get('slots'):\n",
    "                        slots = []\n",
    "                        s: dict\n",
    "                        for s in ss:\n",
    "                            if k := s.get('slot'):\n",
    "                                if 'value' in s:\n",
    "                                    v = s.get('value')\n",
    "                                    slots.append({k: v})\n",
    "                                else:\n",
    "                                    slots.append(k)\n",
    "                        if slots:\n",
    "                            step = {step_type: slots}\n",
    "            if step:\n",
    "                steps.append(step)\n",
    "        ret.append({'story': f'{story_name}_{subpath_cnt}', 'steps': steps})\n",
    "\n",
    "    return ret\n"
   ]
  },
  {
   "cell_type": "code",
   "execution_count": null,
   "metadata": {},
   "outputs": [],
   "source": [
    "def compile_stories(vueflow_stories: dict) -> dict:\n",
    "    stories = []\n",
    "    for story_name, vueflow in vueflow_stories.items():\n",
    "        if vueflow:\n",
    "            story_nodes = decode_story_nodes(vueflow)\n",
    "            story_paths = decode_story_paths(story_nodes)\n",
    "            decoded_story = decode_story(story_name, story_nodes, story_paths)\n",
    "            if decoded_story:\n",
    "                stories += decoded_story\n",
    "    return {'stories': stories}\n"
   ]
  },
  {
   "cell_type": "code",
   "execution_count": null,
   "metadata": {},
   "outputs": [],
   "source": [
    "from ruamel.yaml import YAML\n",
    "import sys\n",
    "\n",
    "compiled_stories = compile_stories(f_json)\n",
    "yaml = YAML()\n",
    "yaml.dump(compiled_stories, sys.stdout)\n"
   ]
  }
 ],
 "metadata": {
  "kernelspec": {
   "display_name": "Python 3.10.7 64-bit ('venv')",
   "language": "python",
   "name": "python3"
  },
  "language_info": {
   "codemirror_mode": {
    "name": "ipython",
    "version": 3
   },
   "file_extension": ".py",
   "mimetype": "text/x-python",
   "name": "python",
   "nbconvert_exporter": "python",
   "pygments_lexer": "ipython3",
   "version": "3.10.7"
  },
  "orig_nbformat": 4,
  "vscode": {
   "interpreter": {
    "hash": "d5a93f04303b4b3c5a779331b74705a9d4021afccf2f818a1bfe8f9513487345"
   }
  }
 },
 "nbformat": 4,
 "nbformat_minor": 2
}
