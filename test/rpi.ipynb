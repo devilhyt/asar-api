{
 "cells": [
  {
   "cell_type": "code",
   "execution_count": null,
   "metadata": {},
   "outputs": [],
   "source": [
    "from RPLCD.i2c import CharLCD\n",
    "lcd = CharLCD('PCF8574', 0x27)\n",
    "lcd.write_string('Hello world')\n",
    "lcd.backlight_enabled=False"
   ]
  },
  {
   "cell_type": "code",
   "execution_count": null,
   "metadata": {},
   "outputs": [],
   "source": [
    "import RPi.GPIO as GPIO\n",
    "import dht11\n",
    "import time\n",
    "\n",
    "GPIO.setwarnings(True)\n",
    "GPIO.setmode(GPIO.BCM)\n",
    "\n",
    "instance = dht11.DHT11(pin=24)\n",
    "\n",
    "try:\n",
    "    while True:\n",
    "        result = instance.read()\n",
    "        if result.is_valid():\n",
    "            print(f\"Temperature: {result.temperature}C\")\n",
    "            print(f\"Humidity: {result.humidity}%\\n\")\n",
    "        time.sleep(2)\n",
    "except KeyboardInterrupt:\n",
    "    print(\"Cleanup\")\n",
    "    GPIO.cleanup()\n"
   ]
  }
 ],
 "metadata": {
  "kernelspec": {
   "display_name": "Python 3.10.7 64-bit ('test')",
   "language": "python",
   "name": "python3"
  },
  "language_info": {
   "codemirror_mode": {
    "name": "ipython",
    "version": 3
   },
   "file_extension": ".py",
   "mimetype": "text/x-python",
   "name": "python",
   "nbconvert_exporter": "python",
   "pygments_lexer": "ipython3",
   "version": "3.10.7"
  },
  "orig_nbformat": 4,
  "vscode": {
   "interpreter": {
    "hash": "62c580e990a90871f330048dfcf5bd9142854bcc99e55c733aa78f77303bca76"
   }
  }
 },
 "nbformat": 4,
 "nbformat_minor": 2
}
